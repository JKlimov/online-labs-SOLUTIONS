{
 "cells": [
  {
   "cell_type": "code",
   "execution_count": 1,
   "metadata": {},
   "outputs": [],
   "source": [
    "# FIRST import all the necessary libraries and modules!\n",
    "import cv2               # import OpenCV\n",
    "import numpy as np       # import NumPy\n",
    "\n",
    "# import functions \n",
    "import sys\n",
    "sys.path.insert(0, '../..')\n",
    "from utils import *     "
   ]
  },
  {
   "cell_type": "markdown",
   "metadata": {},
   "source": [
    "# Intro to OpenCV\n",
    "\n",
    "<p style='font-size:1.75rem;line-height:1.5'>\n",
    "    OpenCV helps us <b>analyze</b> and <b>manipulate images</b>. \n",
    "</p>\n",
    "\n",
    "<p style='font-size:1.75rem;line-height:1.5'>\n",
    "In this lab, we will learn how to <b style=\"color:blue\">create</b>, <b style=\"color:brown\">display</b>, and <b style=\"color:green\">draw</b> on images!! \n",
    "<br>\n",
    "We will also learn how to use <b style=\"color:orange\">trackbars</b> and <b style=\"color:magenta\">mouse detection</b> for user input.\n",
    "</p> "
   ]
  },
  {
   "cell_type": "markdown",
   "metadata": {},
   "source": [
    "***"
   ]
  },
  {
   "cell_type": "markdown",
   "metadata": {},
   "source": [
    "# Drawing Lab\n",
    "\n",
    "<p style='font-size:1.75rem;line-height:1.5'>\n",
    "    Let's learn how to draw <b style=\"color:green\">Mickey Mouse</b> using OpenCV!\n",
    "</p>\n",
    "\n",
    "![Mickey Mouse](mickey_mouse.png)\n",
    "\n",
    "<p style='font-size:1.75rem;line-height:1.5'>\n",
    "    In this lab, we will learn how to:\n",
    "    <ul style='font-size:1.75rem;line-height:2'>\n",
    "        <li>Create blank images</li>\n",
    "        <li>Show popup and inline images</li>\n",
    "        <li>Find coordinates in OpenCV</li>\n",
    "        <li>Draw shapes</li>\n",
    "        <li>Write text</li>\n",
    "        <li>Determine color codes in HSV and RGB</li>\n",
    "    </ul>\n",
    "</p>"
   ]
  },
  {
   "cell_type": "markdown",
   "metadata": {},
   "source": [
    "## Reading an Image"
   ]
  },
  {
   "cell_type": "markdown",
   "metadata": {},
   "source": [
    "<p style='font-size:1.75rem;line-height:1.5'>\n",
    "    We can read an image using the function <code>cv2.imread</code>. \n",
    "    </p>\n",
    "    \n",
    "<p style='font-size:1.75rem;line-height:1.5'> \n",
    "    It has the following format:\n",
    "    </p>\n",
    "\n",
    "```python\n",
    "img = cv2.imread(<image_filename>)\n",
    "```\n",
    "\n",
    "<p style='font-size:1.75rem;line-height:1.5'> \n",
    "    Note that &lt;image_filename&gt; is a string of the filepath to the image:\n",
    "    </p>\n",
    "\n",
    "<p style='font-size:1.75rem;line-height:1.5'>\n",
    "    <b style=\"color:red\">Exercise:</b> \n",
    "    <br> Read in and save the image <code>earth.png</code> below.\n",
    "    </p>"
   ]
  },
  {
   "cell_type": "code",
   "execution_count": null,
   "metadata": {},
   "outputs": [],
   "source": [
    "# TASK: Read in the image earth.png and save it in a variable\n",
    "\n"
   ]
  },
  {
   "cell_type": "code",
   "execution_count": 2,
   "metadata": {},
   "outputs": [],
   "source": [
    "# SOLUTION\n",
    "img = cv2.imread('earth.png')"
   ]
  },
  {
   "cell_type": "markdown",
   "metadata": {},
   "source": [
    "## Displaying Images\n",
    "\n",
    "<p style='font-size:1.75rem;line-height:1.5'>\n",
    "    There are two ways of displaying images:\n",
    "    <ul style='font-size:1.75rem;line-height:1.5'>\n",
    "        <li>in a <b>popup window</b></li>\n",
    "        <li><b>inline</b> (within this jupyter notebook)</li>\n",
    "    </ul>\n",
    "</p>\n",
    "\n",
    "![window](popup_vs_inline.png)"
   ]
  },
  {
   "cell_type": "markdown",
   "metadata": {},
   "source": [
    "## Display in Pop-Up Window\n",
    "\n",
    "<p style='font-size:1.75rem;line-height:1.5'>\n",
    "    To display an image in a <b>popup window</b>, we can use the OpenCV function <code>cv2.imshow</code> followed by <code>close_windows()</code>: \n",
    "    <ul style='font-size:1.75rem;line-height:1.5'>\n",
    "      <li><code>cv2.imshow</code> shows the image</li>\n",
    "      <li><code>close_windows()</code> waits until the ESC key is pressed and then closes the window.</li>\n",
    "    </ul>\n",
    "</p>\n",
    "\n",
    "<p style='font-size:1.75rem;line-height:1.5'>\n",
    "    This pop-up window looks something like this:\n",
    "    </p>\n",
    "\n",
    "<img src=\"window.png\" alt=\"window\" style=\"width: 300px;\"/>\n",
    "\n",
    "<p style='font-size:1.75rem;line-height:1.5'> Here is an example of using the two functions from above:</p>\n",
    "\n",
    "```python\n",
    "cv2.imshow('window name', <image>)\n",
    "close_windows()\n",
    "```\n",
    "\n",
    "<p style='font-size:1.75rem;line-height:1.5'>\n",
    "    <b style=\"color:red\">Exercise:</b> \n",
    "    <br> Display the image you read before in a popup window (use the same variable name).\n",
    "    <br> Press 'ESC' to exit the pop-up window.\n",
    "    </p>"
   ]
  },
  {
   "cell_type": "code",
   "execution_count": null,
   "metadata": {},
   "outputs": [],
   "source": [
    "# TASK #1: Display the image you read and saved above\n",
    "\n",
    "\n",
    "# TASK #2: Call close_windows()\n",
    "\n"
   ]
  },
  {
   "cell_type": "code",
   "execution_count": 3,
   "metadata": {},
   "outputs": [],
   "source": [
    "# SOLUTION:\n",
    "cv2.imshow('Earth', img)\n",
    "close_windows()"
   ]
  },
  {
   "cell_type": "markdown",
   "metadata": {},
   "source": [
    "## Display Inline\n",
    "\n",
    "<p style='font-size:1.75rem;line-height:1.5'>\n",
    "    The instructor-made function <code>show_inline</code> shows an image <b>inline</b>.   \n",
    "    </p>\n",
    "\n",
    "<p style='font-size:1.75rem;line-height:1.5'>\n",
    "It is used like this:\n",
    "    </p>\n",
    "    \n",
    "```python\n",
    "show_inline(<image>)\n",
    "```\n",
    "\n",
    "<p style='font-size:1.75rem;line-height:1.5'>\n",
    "     <b style=\"color:red\">Exercise:</b>\n",
    "    <br> Show your image inline below!\n",
    "    </p>"
   ]
  },
  {
   "cell_type": "code",
   "execution_count": null,
   "metadata": {},
   "outputs": [],
   "source": [
    "# TASK: Show the image you read inline\n",
    "\n"
   ]
  },
  {
   "cell_type": "code",
   "execution_count": 4,
   "metadata": {},
   "outputs": [
    {
     "data": {
      "image/png": "[encoded data removed]",
      "text/plain": [
       "<Figure size 432x288 with 1 Axes>"
      ]
     },
     "metadata": {},
     "output_type": "display_data"
    }
   ],
   "source": [
    "# SOLUTION:\n",
    "show_inline(img)"
   ]
  },
  {
   "cell_type": "markdown",
   "metadata": {},
   "source": [
    "## Create Blank Image\n",
    "\n",
    "<p style='font-size:1.75rem;line-height:1.5'>\n",
    "    The following code uses a tool called <b>NumPy</b> to create a 500 by 500 black pixel image:\n",
    "    </p>\n",
    "    \n",
    "```python\n",
    "img = np.zeros((500, 500, 3), np.uint8)\n",
    "```\n",
    "\n",
    "<p style='font-size:1.75rem;line-height:1.5'>\n",
    "    <b style=\"color:red\">Exercise:</b>\n",
    "    <br>Create a blank black image below.\n",
    "</p>"
   ]
  },
  {
   "cell_type": "code",
   "execution_count": null,
   "metadata": {},
   "outputs": [],
   "source": [
    "# TASK: Create and save a blank image\n",
    "\n"
   ]
  },
  {
   "cell_type": "code",
   "execution_count": 5,
   "metadata": {},
   "outputs": [],
   "source": [
    "# SOLUTION:\n",
    "img = np.zeros((500, 500, 3), np.uint8)"
   ]
  },
  {
   "cell_type": "markdown",
   "metadata": {},
   "source": [
    "<p style='font-size:1.75rem;line-height:1.5'>\n",
    "    Now show the image inline!\n",
    "    </p>"
   ]
  },
  {
   "cell_type": "code",
   "execution_count": null,
   "metadata": {},
   "outputs": [],
   "source": [
    "# TASK: Show your blank image inline\n",
    "\n"
   ]
  },
  {
   "cell_type": "code",
   "execution_count": 6,
   "metadata": {},
   "outputs": [
    {
     "data": {
      "image/png": "[encoded data removed]",
      "text/plain": [
       "<Figure size 432x288 with 1 Axes>"
      ]
     },
     "metadata": {},
     "output_type": "display_data"
    }
   ],
   "source": [
    "# SOLUTION:\n",
    "show_inline(img)"
   ]
  },
  {
   "cell_type": "markdown",
   "metadata": {},
   "source": [
    "## Coordinates\n",
    "\n",
    "<p style='font-size:1.75rem;line-height:1.5'>\n",
    "    We can refer to individual pixels using x and y coordinates in the format <code>(x, y)</code>.\n",
    "    </p>\n",
    "\n",
    "<p style='font-size:1.75rem;line-height:1.5'>\n",
    "    In OpenCV, the <b style=\"color:brown\">upper left corner</b> is <code>(0, 0)</code>. \n",
    "    <br>\n",
    "    <b style=\"color:green\">x increases horizontally</b>, and <b style=\"color:blue\">y increases vertically</b> as we move away from this corner.\n",
    "    </p>\n",
    "    \n",
    "<img src=\"computer_coordinates.png\" alt=\"computer_coordinates\" style=\"width: 500px;\"/>\n",
    "\n",
    "<p style='font-size:1.75rem;line-height:1.5'>\n",
    "    <b style=\"color:red\">Exercise:</b>\n",
    "    <br>Run the code below and move around the mouse to get familiar with x and y coordinates.\n",
    "    <br>Press ESC to close. \n",
    "    </p>\n",
    "\n",
    "<p style='font-size:1.75rem;line-height:1.5'>\n",
    "You should get a pop-up that looks something like this:\n",
    "    </p>\n",
    "\n",
    "![coordinates](coordinates.png)\n"
   ]
  },
  {
   "cell_type": "code",
   "execution_count": 7,
   "metadata": {},
   "outputs": [],
   "source": [
    "coordinates()"
   ]
  },
  {
   "cell_type": "markdown",
   "metadata": {},
   "source": [
    "## Draw a Line\n",
    "\n",
    "<p style='font-size:1.75rem;line-height:1.5'>\n",
    "    The function <code>cv2.line</code> draws a line. It has the following format:\n",
    "    </p>\n",
    "\n",
    "```python\n",
    "cv2.line(<image>, <start_coordinate>, <end_coordinate>, <color>, <thickness>)\n",
    "```\n",
    "\n",
    "<p style='font-size:1.75rem;line-height:1.5'>\n",
    "    OpenCV uses <b style=\"color:blue\">B</b><b style=\"color:green\">G</b><b style=\"color:red\">R</b> color format, which means colors are in the format <code>(&lt;blue&gt;, &lt;green&gt;, &lt;red&gt;)</code>, with each going from 0 to 255. We will learn more about color later.\n",
    "    </p>\n",
    "    \n",
    "<p style='font-size:1.75rem;line-height:1.5'>\n",
    "    <b style=\"color:red\">Exercise:</b> \n",
    "    <br> Draw a red <code>(0, 0, 255)</code> line of thickness <code>5</code> across the middle of the image.\n",
    "    <br> Show the image inline.\n",
    "    </p>\n",
    "\n",
    "<p style='font-size:1.75rem;line-height:1.5'>\n",
    "    It should look like this:\n",
    "    </p>\n",
    "    \n",
    "![red line](red_line.png)"
   ]
  },
  {
   "cell_type": "code",
   "execution_count": null,
   "metadata": {},
   "outputs": [],
   "source": [
    "img = np.zeros((500, 500, 3), np.uint8)  # blank black image\n",
    "\n",
    "# TASK #1: Draw a red line of thickness 5 across the middle of the image you saved before\n",
    "\n",
    "\n",
    "# TASK #2: Show the image inline\n",
    "\n"
   ]
  },
  {
   "cell_type": "code",
   "execution_count": 8,
   "metadata": {
    "scrolled": true
   },
   "outputs": [
    {
     "data": {
      "image/png": "[encoded data removed]",
      "text/plain": [
       "<Figure size 432x288 with 1 Axes>"
      ]
     },
     "metadata": {},
     "output_type": "display_data"
    }
   ],
   "source": [
    "# SOLUTION:\n",
    "img = np.zeros((500, 500, 3), np.uint8)  # blank black image\n",
    "cv2.line(img, (0,250), (500,250), (0,0,255), 5)\n",
    "show_inline(img)"
   ]
  },
  {
   "cell_type": "markdown",
   "metadata": {},
   "source": [
    "## Draw a Circle\n",
    "\n",
    "<p style='font-size:1.75rem;line-height:1.5'>\n",
    "    The function <code>cv2.circle</code> draws a circle. It has the following format:\n",
    "    </p>\n",
    "\n",
    "```python\n",
    "cv2.circle(<image>, <center_coordinate>, <radius>, <color>, <thickness>)\n",
    "```\n",
    "\n",
    "<p style='font-size:1.75rem;line-height:1.5'>\n",
    "    For a circle and other closed shapes, a thickness of <code>-1</code> <b>fills in the shape</b>.\n",
    "    </p>\n",
    "    \n",
    "<p style='font-size:1.75rem;line-height:1.5'>\n",
    "    <b style=\"color:red\">Exercise:</b>\n",
    "    <br> Draw a filled-in blue <code>(255, 0, 0)</code> circle of radius <code>100</code> in the top right corner of the image.\n",
    "    <br> Show the image inline.\n",
    "    </p>\n",
    "\n",
    "<p style='font-size:1.75rem;line-height:1.5'>\n",
    "    It should look like this:\n",
    "    </p>\n",
    "    \n",
    "![blue circle](blue_circle.png)\n"
   ]
  },
  {
   "cell_type": "code",
   "execution_count": null,
   "metadata": {
    "scrolled": true
   },
   "outputs": [],
   "source": [
    "img = np.zeros((500, 500, 3), np.uint8)  # blank black image\n",
    "\n",
    "# TASK #1: Draw a blue filled in circle in the top right corner\n",
    "\n",
    "\n",
    "# TASK #2: Show the image inline\n",
    "\n"
   ]
  },
  {
   "cell_type": "code",
   "execution_count": 9,
   "metadata": {
    "scrolled": true
   },
   "outputs": [
    {
     "data": {
      "image/png": "[encoded data removed]",
      "text/plain": [
       "<Figure size 432x288 with 1 Axes>"
      ]
     },
     "metadata": {},
     "output_type": "display_data"
    }
   ],
   "source": [
    "# SOLUTION:\n",
    "img = np.zeros((500, 500, 3), np.uint8)  # blank black image\n",
    "cv2.circle(img, (400, 100), 100, (255,0,0), -1)\n",
    "show_inline(img)"
   ]
  },
  {
   "cell_type": "markdown",
   "metadata": {},
   "source": [
    "## Draw a Rectangle\n",
    "\n",
    "<p style='font-size:1.75rem;line-height:1.5'>\n",
    "    The function <code>cv2.rectangle</code> draws a rectangle. It has the following format:\n",
    "    </p>\n",
    "\n",
    "```python\n",
    "cv2.rectangle(<image>, <topleft_coordinate>, <bottomright_coordinate>, <color>, <thickness>)\n",
    "```\n",
    "\n",
    "<p style='font-size:1.75rem;line-height:1.5'>\n",
    "    <b style=\"color:red\">Exercise:</b> \n",
    "    <br> Draw a green <code>(0,255,0)</code> rectangle of thickness <code>50</code> around the border of the entire image.\n",
    "    <br> Show the image inline. \n",
    "    </p>\n",
    "    \n",
    "<p style='font-size:1.75rem;line-height:1.5'>\n",
    "    It should look like this:\n",
    "    </p>\n",
    "\n",
    "![green rectangle](green_rectangle.png)"
   ]
  },
  {
   "cell_type": "code",
   "execution_count": null,
   "metadata": {},
   "outputs": [],
   "source": [
    "img = np.zeros((500, 500, 3), np.uint8)  # blank black image\n",
    "\n",
    "# TASK #1: Draw a green rectangle of thickness 50 around the image\n",
    "\n",
    "\n",
    "# TASK #2: Show the image inline\n",
    "\n"
   ]
  },
  {
   "cell_type": "code",
   "execution_count": 10,
   "metadata": {
    "scrolled": true
   },
   "outputs": [
    {
     "data": {
      "image/png": "[encoded data removed]",
      "text/plain": [
       "<Figure size 432x288 with 1 Axes>"
      ]
     },
     "metadata": {},
     "output_type": "display_data"
    }
   ],
   "source": [
    "# SOLUTION:\n",
    "img = np.zeros((500, 500, 3), np.uint8)  # blank black image\n",
    "cv2.rectangle(img, (0,0), (500,500), (0,255,0), 50)\n",
    "show_inline(img)"
   ]
  },
  {
   "cell_type": "markdown",
   "metadata": {},
   "source": [
    "## Draw Text\n",
    "\n",
    "<p style='font-size:1.75rem;line-height:1.5'>\n",
    "    The function <code>cv2.putText</code> draws text. It has the following format:\n",
    "    </p>\n",
    "\n",
    "```python\n",
    "cv2.putText(<image>, <text>, <bottomleft_coord>, <font>, <scale>, <color>, <thickness>)\n",
    "```\n",
    "\n",
    "<p style='font-size:1.75rem;line-height:1.5'>\n",
    "    Use <code>0</code> for to use the default font. Scale means the size of the text. \n",
    "    </p>\n",
    "\n",
    "<p style='font-size:1.75rem;line-height:1.5'>\n",
    "    <p style='font-size:1.75rem;line-height:1.5'>\n",
    "    <b style=\"color:red\">Exercise:</b> \n",
    "    <br> Write the text <code>'Beaver Works'</code> in white <code>(255, 255, 255)</code> near the center of the image.\n",
    "    <br> Use <code>0</code> for font, <code>2</code> for scale, and <code>3</code> for thickness.\n",
    "    <br> Show the image inline. \n",
    "    </p>\n",
    "    \n",
    "<p style='font-size:1.75rem;line-height:1.5'>\n",
    "    It should look like this:\n",
    "    </p>\n",
    "\n",
    "![beaver works](beaver_works.png)"
   ]
  },
  {
   "cell_type": "code",
   "execution_count": null,
   "metadata": {},
   "outputs": [],
   "source": [
    "img = np.zeros((500, 500, 3), np.uint8)  # blank black image\n",
    "\n",
    "# TASK #1: Draw a green rectangle of thickness 50 around the image\n",
    "\n",
    "\n",
    "# TASK #2: Show the image inline\n",
    "\n"
   ]
  },
  {
   "cell_type": "code",
   "execution_count": 11,
   "metadata": {},
   "outputs": [
    {
     "data": {
      "image/png": "[encoded data removed]",
      "text/plain": [
       "<Figure size 432x288 with 1 Axes>"
      ]
     },
     "metadata": {},
     "output_type": "display_data"
    }
   ],
   "source": [
    "# SOLUTION:\n",
    "img = np.zeros((500, 500, 3), np.uint8)  # blank black image\n",
    "cv2.putText(img, 'BeaverWorks', (40,270), 0, 2, (255,255,255), 3)\n",
    "show_inline(img)"
   ]
  },
  {
   "cell_type": "markdown",
   "metadata": {},
   "source": [
    "## Let's Draw Mickey Mouse!!\n",
    "\n",
    "<p style='font-size:1.75rem;line-height:1.5'>\n",
    "    Using the tools we have learned, let's draw Mickey Mouse!\n",
    "    </p>\n",
    "\n",
    "![Mickey Mouse](mickey_mouse.png)\n",
    "\n",
    "<p style='font-size:1.75rem;line-height:1.5'>\n",
    "    <b style=\"color:red\">Exercise:</b> \n",
    "    <br> You can choose to draw only <b>his head</b>, or <b>part of his body</b>.  \n",
    "    </p>\n",
    "\n",
    "<p style='font-size:1.75rem;line-height:1.5'>\n",
    "    Follow these steps:\n",
    "    <ul style='font-size:1.75rem;line-height:2'>\n",
    "        <li><b style=\"color:blue\">Sketch</b> your design by hand. Use only lines, circles, and rectangles.</li>\n",
    "        <li><b style=\"color:brown\">Write</b> down which functions and parameters you will use.</li>\n",
    "        <li><b style=\"color:green\">Type</b> in each function one by one.\n",
    "        <li><b style=\"color:magenta\">Show</b> your image inline as you work, making adjustments as needed.</li>\n",
    "    </ul>\n",
    "</p>\n",
    "\n",
    "<p style='font-size:1.75rem;line-height:1.5'>\n",
    "    Color codes:\n",
    "    <ul style='font-size:1.75rem;line-height:2'>\n",
    "        <li><b>Black</b>: <code>(0,0,0)</code></li>\n",
    "        <li>White: <code>(255,255,255)</code></li>\n",
    "        <li><b style=\"color:blue\">Blue</b>: <code>(255,0,0)</code></li>\n",
    "        <li><b style=\"color:green\">Green</b>: <code>(0,255,0)</code></li>\n",
    "        <li><b style=\"color:red\">Red</b>: <code>(0,0,255)</code></li>\n",
    "        <li><b style=\"color:#F0E68C\">Yellow</b>: <code>(0,255,255)</code></li>\n",
    "    </ul>\n",
    "</p>\n",
    "\n",
    "<p style='font-size:1.75rem;line-height:1.5'>\n",
    "    Note: This time we created a blank white image to start.\n",
    "    </p>"
   ]
  },
  {
   "cell_type": "code",
   "execution_count": null,
   "metadata": {
    "scrolled": true
   },
   "outputs": [],
   "source": [
    "img = np.full((500, 500, 3), (255,255,255), np.uint8)  # blank white image\n",
    "\n",
    "# TASK #1: Create Mickey Mouse using the functions we have learned!\n",
    "\n",
    "\n",
    "\n",
    "# TASK #2: Show your image inline\n",
    "\n"
   ]
  },
  {
   "cell_type": "code",
   "execution_count": 12,
   "metadata": {},
   "outputs": [
    {
     "data": {
      "image/png": "[encoded data removed]",
      "text/plain": [
       "<Figure size 432x288 with 1 Axes>"
      ]
     },
     "metadata": {},
     "output_type": "display_data"
    }
   ],
   "source": [
    "# SOLUTION:\n",
    "img = np.full((500, 500, 3), (255,255,255), np.uint8)  # blank white image\n",
    "\n",
    "# head\n",
    "cv2.circle(img, (150, 90), 60, (0,0,0), -1)       # left ear\n",
    "cv2.circle(img, (350, 90), 60, (0,0,0), -1)       # right ear\n",
    "cv2.circle(img, (250, 192), 100, (0,0,0), -1)     # face\n",
    "\n",
    "# bottom\n",
    "cv2.rectangle(img, (175,275), (325,360), (0,0,0), -1)        # upper body \n",
    "cv2.rectangle(img, (175,360), (325,460), (0,0,255), -1)      # red shirt \n",
    "cv2.rectangle(img, (175,460), (325,500), (0,255,255), -1)    # shoes \n",
    "\n",
    "# buttons\n",
    "cv2.circle(img, (220, 390), 10, (255,255,255), -1)   # left button\n",
    "cv2.circle(img, (280, 390), 10, (255,255,255), -1)   # right button\n",
    "\n",
    "# show image\n",
    "show_inline(img)"
   ]
  },
  {
   "cell_type": "code",
   "execution_count": null,
   "metadata": {},
   "outputs": [],
   "source": []
  }
 ],
 "metadata": {
  "kernelspec": {
   "display_name": "Python 3",
   "language": "python",
   "name": "python3"
  },
  "language_info": {
   "codemirror_mode": {
    "name": "ipython",
    "version": 3
   },
   "file_extension": ".py",
   "mimetype": "text/x-python",
   "name": "python",
   "nbconvert_exporter": "python",
   "pygments_lexer": "ipython3",
   "version": "3.8.1"
  }
 },
 "nbformat": 4,
 "nbformat_minor": 4
}
