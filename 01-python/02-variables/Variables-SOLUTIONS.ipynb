{
 "cells": [
  {
   "cell_type": "markdown",
   "metadata": {},
   "source": [
    "# Variables\n",
    "\n",
    "<p style='font-size:1.75rem;line-height:1.5'>\n",
    "    Imagine that you have <b style=\"color:red\">data that changes over time</b> (e.g. racecar speed, direction), or that you want to write code that is <b style=\"color:red\">easy to reuse</b>.\n",
    "    </p>\n",
    "    \n",
    "<p style='font-size:1.75rem;line-height:1.5'>\n",
    "    We can use placeholders, or <b style=\"color:blue\">variables</b>. Variables allow us to save and change data throughout a program.\n",
    "    </p>\n",
    "    \n",
    "<p style='font-size:1.75rem;line-height:1.5'>\n",
    "    In this lab, we will be learning how to <b style=\"color:blue\">define and use variables</b> in Python.\n",
    "    </p>"
   ]
  },
  {
   "cell_type": "markdown",
   "metadata": {},
   "source": [
    "# Assignment\n",
    "\n",
    "<p style='font-size:1.75rem;line-height:1.5'>\n",
    "    We can use the <b style=\"color:blue\">assignment operator</b> <code>=</code> to assign values (of any data type) to variables. \n",
    "    <br>For example:\n",
    "    </p>\n",
    "<ul style='font-size:1.75rem;line-height:1.5'>\n",
    "    <li><code>name = 'Augustus'</code></li>\n",
    "    <li><code>age = 26</code></li>\n",
    "    <li><code>glasses = True</code></li>\n",
    "</ul>"
   ]
  },
  {
   "cell_type": "markdown",
   "metadata": {},
   "source": [
    "<p style='font-size:1.75rem;line-height:1.5'>\n",
    "    Assign a grade (string, integer, or float) to a variable called <code>grade</code>.\n",
    "    </p>"
   ]
  },
  {
   "cell_type": "code",
   "execution_count": 1,
   "metadata": {
    "scrolled": false
   },
   "outputs": [],
   "source": [
    "# Start your code here\n",
    "grade = 100 # hehe\n"
   ]
  },
  {
   "cell_type": "markdown",
   "metadata": {},
   "source": [
    "# Using Variables\n",
    "\n",
    "<p style='font-size:1.75rem;line-height:1.5'>\n",
    "    Once we have assigned a variable, we can <b style=\"color:blue\">use it in place of that value!</b>\n",
    "    </p>"
   ]
  },
  {
   "cell_type": "markdown",
   "metadata": {},
   "source": [
    "<p style='font-size:1.75rem;line-height:1.5'>\n",
    "    Set the variable <code>x</code> to a number. Then multiply <code>x</code> by 2 and print the result.\n",
    "    </p>"
   ]
  },
  {
   "cell_type": "code",
   "execution_count": 2,
   "metadata": {},
   "outputs": [
    {
     "name": "stdout",
     "output_type": "stream",
     "text": [
      "4\n"
     ]
    }
   ],
   "source": [
    "# Assign x to a number\n",
    "x = 2\n",
    "\n",
    "# Print x by 2\n",
    "print(x*2)\n"
   ]
  },
  {
   "cell_type": "markdown",
   "metadata": {},
   "source": [
    "<p style='font-size:1.75rem;line-height:1.5'>\n",
    "    Set the variable <code>name</code> to your name (a string). Then print <code>Hello name!</code>\n",
    "    </p>"
   ]
  },
  {
   "cell_type": "code",
   "execution_count": 3,
   "metadata": {
    "scrolled": true
   },
   "outputs": [
    {
     "name": "stdout",
     "output_type": "stream",
     "text": [
      "Hello Sabina!\n"
     ]
    }
   ],
   "source": [
    "# Assign name to a string\n",
    "name = \"Sabina\"\n",
    "\n",
    "# Print out 'Hello ' + name + '!'\n",
    "print('Hello ' + name + '!')\n"
   ]
  },
  {
   "cell_type": "markdown",
   "metadata": {},
   "source": [
    "# Naming Variables\n",
    "<p style='font-size:1.75rem;line-height:1.5'>\n",
    "    A variable name can only contain letters (a–z, A–Z), digits (0–9), and the underscore <code>_</code>. Note that variable names <b style=\"color:red\">cannot begin with numbers</b> and <b style=\"color:red\">cannot contain spaces</b>. For example:\n",
    "    </p>\n",
    "    \n",
    "<ul style='font-size:1.75rem;line-height:1.5'>\n",
    "    <li>Valid variable names: <code>GPA</code>, <code>student_1</code>, <code>_bEaVeR_w0rKs_</code>\n",
    "    <li>Invalid variable names: <code>1_student</code>, <code>Beaver Works</code>, <code>€„‹´‰</code>\n",
    "</ul>"
   ]
  },
  {
   "cell_type": "markdown",
   "metadata": {},
   "source": [
    "<p style='font-size:1.75rem;line-height:1.5'>\n",
    "    Assign a number to a variable name with letters, digits, and an underscore <code>_</code>.\n",
    "    </p>"
   ]
  },
  {
   "cell_type": "code",
   "execution_count": 4,
   "metadata": {},
   "outputs": [],
   "source": [
    "# Start your code here\n",
    "a1_2 = 'hi'\n"
   ]
  },
  {
   "cell_type": "markdown",
   "metadata": {},
   "source": [
    "<p style='font-size:1.75rem;line-height:1.5'>\n",
    "    Assign a string to a variable name with only upper case letters.\n",
    "    </p>"
   ]
  },
  {
   "cell_type": "code",
   "execution_count": 5,
   "metadata": {},
   "outputs": [],
   "source": [
    "# Start your code here\n",
    "GREETINGS = 'HELLO'\n"
   ]
  },
  {
   "cell_type": "markdown",
   "metadata": {},
   "source": [
    "<p style='font-size:1.75rem;line-height:1.5'>\n",
    "    Now print the two variables you made!\n",
    "    </p>"
   ]
  },
  {
   "cell_type": "code",
   "execution_count": 6,
   "metadata": {},
   "outputs": [
    {
     "name": "stdout",
     "output_type": "stream",
     "text": [
      "hi\n",
      "HELLO\n"
     ]
    }
   ],
   "source": [
    "# Start your code here\n",
    "print(a1_2)\n",
    "print(GREETINGS)\n"
   ]
  },
  {
   "cell_type": "markdown",
   "metadata": {},
   "source": [
    "# Other Restrictions\n",
    "\n",
    "<p style='font-size:1.75rem;line-height:1.5'>\n",
    "    <b style=\"color:red\">Variables also cannot be Python keywords.</b> For example, don't name your variables:\n",
    "    </p>\n",
    "\n",
    "```python\n",
    "True, False, None, is, not, and, or, for, if, elif, else, def\n",
    "```\n",
    "\n",
    "<p style='font-size:1.75rem;line-height:1.5'>\n",
    "    There are many others. These words should turn <b style=\"color:green\">green</b> when you type them, which should help you know not to use them.\n",
    "    </p>\n",
    "<p style='font-size:1.75rem;line-height:1.5'>\n",
    "    You should also not use names already used in Python, such as <code>str</code> or <code>int</code>, although they are technically allowed.\n",
    "    </p>"
   ]
  },
  {
   "cell_type": "markdown",
   "metadata": {},
   "source": [
    "<p style='font-size:1.75rem;line-height:1.5'>\n",
    "    Which of the following are valid variable names? \n",
    "    <br> First <b style=\"color:blue\">discuss with your partner</b> and then run each code block to see if you get an error.\n",
    "    </p>"
   ]
  },
  {
   "cell_type": "code",
   "execution_count": 7,
   "metadata": {},
   "outputs": [],
   "source": [
    "_test1 = 10"
   ]
  },
  {
   "cell_type": "code",
   "execution_count": 8,
   "metadata": {},
   "outputs": [
    {
     "ename": "SyntaxError",
     "evalue": "invalid syntax (<ipython-input-8-6e6cc497c83c>, line 1)",
     "output_type": "error",
     "traceback": [
      "\u001b[0;36m  File \u001b[0;32m\"<ipython-input-8-6e6cc497c83c>\"\u001b[0;36m, line \u001b[0;32m1\u001b[0m\n\u001b[0;31m    2test = \"is this valid?\"\u001b[0m\n\u001b[0m        ^\u001b[0m\n\u001b[0;31mSyntaxError\u001b[0m\u001b[0;31m:\u001b[0m invalid syntax\n"
     ]
    }
   ],
   "source": [
    "2test = \"is this valid?\""
   ]
  },
  {
   "cell_type": "code",
   "execution_count": 9,
   "metadata": {
    "scrolled": true
   },
   "outputs": [
    {
     "ename": "SyntaxError",
     "evalue": "invalid syntax (<ipython-input-9-5601fd14c79b>, line 1)",
     "output_type": "error",
     "traceback": [
      "\u001b[0;36m  File \u001b[0;32m\"<ipython-input-9-5601fd14c79b>\"\u001b[0;36m, line \u001b[0;32m1\u001b[0m\n\u001b[0;31m    is = 4\u001b[0m\n\u001b[0m     ^\u001b[0m\n\u001b[0;31mSyntaxError\u001b[0m\u001b[0;31m:\u001b[0m invalid syntax\n"
     ]
    }
   ],
   "source": [
    "is = 4"
   ]
  },
  {
   "cell_type": "markdown",
   "metadata": {},
   "source": [
    "# Naming Conventions\n",
    "\n",
    "<p style='font-size:1.75rem;line-height:1.5'>\n",
    "    There are <b style=\"color:blue\">two main naming conventions</b> for variable names with multiple words:\n",
    "    </p>\n",
    "<ul style='font-size:1.75rem;line-height:1.5'>\n",
    "    <li><code>camelCase</code>: First word is lower case and following words are capitalized.</li>\n",
    "    <li><code>snake_case</code>: All words are lower case and separated by underscores.</li>\n",
    "</ul>\n",
    "<p style='font-size:1.75rem;line-height:1.5'>\n",
    "    In Python, we typically use <code>snake_case</code>.\n",
    "    </p>"
   ]
  },
  {
   "cell_type": "markdown",
   "metadata": {},
   "source": [
    "<p style='font-size:1.75rem;line-height:1.5'> \n",
    "Create a variable name with the words <code>cat</code> and <code>name</code>, combining the two words in snake_case style.\n",
    "    </p>"
   ]
  },
  {
   "cell_type": "code",
   "execution_count": 11,
   "metadata": {},
   "outputs": [],
   "source": [
    "# Start your code here\n",
    "cat_name = \"meh\"\n"
   ]
  },
  {
   "cell_type": "markdown",
   "metadata": {},
   "source": [
    "# Reassignment\n",
    "\n",
    "<p style='font-size:1.75rem;line-height:1.5'>\n",
    "    Variables that already exist can be <b style=\"color:blue\">reassigned to different values.</b>\n",
    "    </p>"
   ]
  },
  {
   "cell_type": "markdown",
   "metadata": {},
   "source": [
    "<p style='font-size:1.75rem;line-height:1.5'>\n",
    "    Go through the example below to see this in action.\n",
    "    </p>"
   ]
  },
  {
   "cell_type": "code",
   "execution_count": 12,
   "metadata": {},
   "outputs": [
    {
     "name": "stdout",
     "output_type": "stream",
     "text": [
      "1\n",
      "2\n"
     ]
    }
   ],
   "source": [
    "# Assign a value to a variable \n",
    "x = 1\n",
    "\n",
    "# Print the variable\n",
    "print(x)\n",
    "\n",
    "# Reassign a different value to the variable\n",
    "x = 2\n",
    "\n",
    "# Has the variable value changed? (Check by printing.)\n",
    "print(x)\n"
   ]
  },
  {
   "cell_type": "markdown",
   "metadata": {},
   "source": [
    "<p style='font-size:1.75rem;line-height:1.5'>\n",
    "    When we reassign, the <b style=\"color:blue\">right side is evaluated first</b> before the reassignment takes place. This means that we can reassign a variable in terms of itself. For example, we can add one to a variable like this:\n",
    "    </p>\n",
    "\n",
    "```python\n",
    "x = 10\n",
    "x = x + 1\n",
    "```\n",
    "<p style='font-size:1.75rem;line-height:1.5'>\n",
    "    Now <code>x</code> is equal to <code>11</code>. Try doubling a variable in the example below.\n",
    "    </p>"
   ]
  },
  {
   "cell_type": "code",
   "execution_count": 13,
   "metadata": {},
   "outputs": [
    {
     "name": "stdout",
     "output_type": "stream",
     "text": [
      "22\n"
     ]
    }
   ],
   "source": [
    "# Create a new variable\n",
    "x = 11\n",
    "\n",
    "# Set the variable equal to two times itself\n",
    "x = x*2\n",
    "\n",
    "# Now print the variable\n",
    "print(x)\n"
   ]
  },
  {
   "cell_type": "markdown",
   "metadata": {},
   "source": [
    "<p style='font-size:1.75rem;line-height:1.5'>\n",
    "    <b style=\"color:blue\">Swapping variables</b> means that we have two variables (e.g. <code>A</code> and <code>B</code>), and we want to change the new value of <code>A</code> to be equal to the old value of <code>B</code>, and new value of <code>B</code> to be equal to the old value of <code>A</code>.\n",
    "    </p>\n",
    "<p style='font-size:1.75rem;line-height:1.5'>\n",
    "    Try to swap the two variables below by using a third variable.\n",
    "    </p>"
   ]
  },
  {
   "cell_type": "code",
   "execution_count": 15,
   "metadata": {},
   "outputs": [
    {
     "name": "stdout",
     "output_type": "stream",
     "text": [
      "Works\n",
      "Beaver\n"
     ]
    }
   ],
   "source": [
    "A = 'Beaver'\n",
    "B = 'Works'\n",
    "\n",
    "# Swap the variables by using a third variable\n",
    "tmp = A\n",
    "A = B\n",
    "B = tmp\n",
    "\n",
    "# Print A and B to check if the values have swapped\n",
    "print(A)\n",
    "print(B)"
   ]
  },
  {
   "cell_type": "markdown",
   "metadata": {},
   "source": [
    "<p style='font-size:1.75rem;line-height:1.5'>\n",
    "    <strong>Challenge:</strong> Try swapping the two numerical variables below without using a third variable! (Hint: Use <code>+</code> and <code>-</code>.)\n",
    "    </p>"
   ]
  },
  {
   "cell_type": "code",
   "execution_count": 17,
   "metadata": {},
   "outputs": [
    {
     "name": "stdout",
     "output_type": "stream",
     "text": [
      "1\n",
      "100\n"
     ]
    }
   ],
   "source": [
    "x = 100\n",
    "y = 1\n",
    "\n",
    "# Swap the variables without a third variable\n",
    "x -= 99\n",
    "y += 99\n",
    "\n",
    "# Print x and y to check if the values have swapped\n",
    "print(x)\n",
    "print(y)"
   ]
  },
  {
   "cell_type": "markdown",
   "metadata": {},
   "source": [
    "# Assignment Operations \n",
    "<p style='font-size:1.75rem;line-height:1.5'>\n",
    "    Assignment operations are <b style=\"color:blue\">extentions of the <code>=</code> assignment operator.</b> They are <b style=\"color:blue\">shortcuts</b> that allow us to do an operation and reassign a variable in one step.\n",
    "    </p>\n",
    "<ul style='font-size:1.75rem;line-height:1.5'>\n",
    "    <li><code>+=</code>: Adds value to variable.</li>\n",
    "    <li><code>-=</code>: Subtracts value from variable.</li>\n",
    "    <li><code>*=</code>: Multiplies variable by value.</li>\n",
    "    <li><code>/=</code>: Divides variable by value.</li>\n",
    "    <li><code>%=</code>: Sets variable to remainder of division by value.</li>\n",
    "</ul>\n",
    "<p style='font-size:1.75rem;line-height:1.5'>\n",
    "    These are just shortcuts. For example, <code>x += 1</code> is the same as <code>x = x + 1</code>.\n",
    "    </p>"
   ]
  },
  {
   "cell_type": "markdown",
   "metadata": {},
   "source": [
    "<p style='font-size:1.75rem;line-height:1.5'>\n",
    "    Try tripling a variable below.\n",
    "    </p>"
   ]
  },
  {
   "cell_type": "code",
   "execution_count": 16,
   "metadata": {},
   "outputs": [
    {
     "name": "stdout",
     "output_type": "stream",
     "text": [
      "3\n"
     ]
    }
   ],
   "source": [
    "# Create a new variable\n",
    "x = 1\n",
    "\n",
    "# Set the variable equal to THREE times itself using *=\n",
    "x *= 3\n",
    "\n",
    "# Now print the variable\n",
    "print(x)\n"
   ]
  },
  {
   "cell_type": "markdown",
   "metadata": {},
   "source": [
    "<p style='font-size:1.75rem;line-height:1.5'>\n",
    "    These also work on strings. Add the string <code>'CAR'</code> to the variable <code>robot</code>."
   ]
  },
  {
   "cell_type": "code",
   "execution_count": 18,
   "metadata": {},
   "outputs": [
    {
     "name": "stdout",
     "output_type": "stream",
     "text": [
      "RACECAR\n"
     ]
    }
   ],
   "source": [
    "robot = 'RACE'\n",
    "\n",
    "# Add 'CAR' to the robot variable using +=\n",
    "robot += 'CAR'\n",
    "\n",
    "# Print the robot variable\n",
    "print(robot)\n"
   ]
  },
  {
   "cell_type": "markdown",
   "metadata": {},
   "source": [
    "# Greeter\n",
    "<p style='font-size:1.75rem;line-height:1.5'>\n",
    "    The function <code>raw_input()</code> takes <b style=\"color:blue\">input from the user</b> and <b style=\"color:blue\">returns the input as a string</b>. Don't worry too much about how this works, just know that the response is saved as a string in the variable <code>name</code>.\n",
    "    </p>"
   ]
  },
  {
   "cell_type": "markdown",
   "metadata": {},
   "source": [
    "<p style='font-size:1.75rem;line-height:1.5'>\n",
    "    Using string concatenation and the variable <code>name</code>, greet the person. For example, if the name is Alex, you might print:\n",
    "    </p>\n",
    "\n",
    "```\n",
    "Hello Alex!\n",
    "```"
   ]
  },
  {
   "cell_type": "code",
   "execution_count": 19,
   "metadata": {},
   "outputs": [
    {
     "name": "stdout",
     "output_type": "stream",
     "text": [
      "Hello! What is your name: Sabina\n",
      "Hello Sabina!\n"
     ]
    }
   ],
   "source": [
    "name = raw_input('Hello! What is your name: ')\n",
    "\n",
    "# Greet the person\n",
    "print('Hello ' + name + '!')\n"
   ]
  },
  {
   "cell_type": "markdown",
   "metadata": {},
   "source": [
    "# Total Age\n",
    "\n",
    "<p style='font-size:1.75rem;line-height:1.5'>\n",
    "    Choose four friends or family members, and print out their total age by adding the ages together. This problem can be done without using variables, but variables help us keep track of the ages, and save them for later.\n",
    "    </p>"
   ]
  },
  {
   "cell_type": "code",
   "execution_count": 20,
   "metadata": {},
   "outputs": [
    {
     "name": "stdout",
     "output_type": "stream",
     "text": [
      "10\n"
     ]
    }
   ],
   "source": [
    "# Assign variables for the ages of four family members or friends\n",
    "friend_a = 1\n",
    "friend_b = 2\n",
    "friend_c = 3\n",
    "friend_d = 4\n",
    "\n",
    "# Print out the total age of the four\n",
    "print(friend_a + friend_b + friend_c + friend_d)\n"
   ]
  },
  {
   "cell_type": "markdown",
   "metadata": {},
   "source": [
    "<p style='font-size:1.75rem;line-height:1.5'>\n",
    "    Now suppose that 7 years have passed. Add <code>years</code> to each variable and print the new total age.\n",
    "    </p>"
   ]
  },
  {
   "cell_type": "code",
   "execution_count": 21,
   "metadata": {},
   "outputs": [
    {
     "name": "stdout",
     "output_type": "stream",
     "text": [
      "38\n"
     ]
    }
   ],
   "source": [
    "years = 7\n",
    "\n",
    "# Add years to each variable\n",
    "friend_a += 7\n",
    "friend_b += 7\n",
    "friend_c += 7\n",
    "friend_d += 7\n",
    "\n",
    "# Print out the total age of the four\n",
    "print(friend_a + friend_b + friend_c + friend_d)\n"
   ]
  },
  {
   "cell_type": "markdown",
   "metadata": {},
   "source": [
    "# Simpsons Word Problem\n",
    "\n",
    "<p style='font-size:1.75rem;line-height:1.5'>\n",
    "    Homer Simpson wants to calculate the amount of donuts he has based on the number of Bart's detentions and the height of Marge's hair.\n",
    "    </p>\n",
    "    \n",
    "<ul style='font-size:1.75rem;line-height:1.5'>\n",
    "    <li>Bart gets 2 detentions for every 5 donuts he steals from Apu and puts into Homer's stash.</li>\n",
    "    <li>Marge eats 3 donuts for every inch her hair grows. (She needs nutrients to grow the hair.)</li>\n",
    "    <li>Homer eats 13 donuts every day.</li>\n",
    "</ul>\n",
    "\n",
    "<p style='font-size:1.75rem;line-height:1.5'>\n",
    "    Last week, Homer started with 10 donuts. During the week, Bart had 278 detentions and Marge's hair grew 43 inches. How many donuts does Homer have now?\n",
    "    </p>\n",
    "<p style='font-size:1.75rem;line-height:1.5'>\n",
    "    Remember to use variables! It's a much easier math problem if you use variables. :)\n",
    "    </p>"
   ]
  },
  {
   "cell_type": "code",
   "execution_count": 23,
   "metadata": {},
   "outputs": [
    {
     "name": "stdout",
     "output_type": "stream",
     "text": [
      "678\n"
     ]
    }
   ],
   "source": [
    "# Make variables here and calculate the number of donuts!\n",
    "initial_donuts = 10\n",
    "bart_detentions = 278\n",
    "marge_hair = 43\n",
    "homer_eats = 13\n",
    "\n",
    "# Print the number of donuts\n",
    "final_donuts = initial_donuts + (bart_detentions/2)*5 - (marge_hair/3) - homer_eats\n",
    "print(final_donuts)\n"
   ]
  },
  {
   "cell_type": "markdown",
   "metadata": {},
   "source": [
    "<p style='font-size:1.75rem;line-height:1.5'>\n",
    "Now, suppose that over the next week, Bart will get 208 detentions while Marge's hair will grow 232 inches. Homer goes on a diet and will only eat 12 donuts every day instead of 13. How many donuts would Homer have by the end of next week?\n",
    "    </p>\n",
    "<p style='font-size:1.75rem;line-height:1.5'>\n",
    "    <strong>Hint:</strong> If you did the previous part right, this should be as easy as changing the value of some variables from your previous code!\n",
    "    </p>"
   ]
  },
  {
   "cell_type": "code",
   "execution_count": 24,
   "metadata": {},
   "outputs": [
    {
     "name": "stdout",
     "output_type": "stream",
     "text": [
      "441\n"
     ]
    }
   ],
   "source": [
    "# Start your code here (you can copy and paste, or just change your previous code)\n",
    "initial_donuts = 10\n",
    "bart_detentions = 208\n",
    "marge_hair = 232\n",
    "homer_eats = 12\n",
    "\n",
    "final_donuts = initial_donuts + (bart_detentions/2)*5 - (marge_hair/3) - homer_eats\n",
    "print(final_donuts)"
   ]
  }
 ],
 "metadata": {
  "kernelspec": {
   "display_name": "Python 2",
   "language": "python",
   "name": "python2"
  },
  "language_info": {
   "codemirror_mode": {
    "name": "ipython",
    "version": 2
   },
   "file_extension": ".py",
   "mimetype": "text/x-python",
   "name": "python",
   "nbconvert_exporter": "python",
   "pygments_lexer": "ipython2",
   "version": "2.7.16"
  }
 },
 "nbformat": 4,
 "nbformat_minor": 2
}
