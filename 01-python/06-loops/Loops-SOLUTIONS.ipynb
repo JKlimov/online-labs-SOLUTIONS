{
 "cells": [
  {
   "cell_type": "markdown",
   "metadata": {},
   "source": [
    "# Loops\n",
    "\n",
    "<p style='font-size:1.75rem;line-height:1.5'>\n",
    "    <b style=\"color:red\">Loops</b> allow us to <b style=\"color:blue\">execute a block of code multiple times</b>. They are very powerful, since they allow us to do many operations with only a small amount of code.\n",
    "    </p>"
   ]
  },
  {
   "cell_type": "markdown",
   "metadata": {},
   "source": [
    "# While Loops\n",
    "\n",
    "<p style='font-size:1.75rem;line-height:1.5'>\n",
    "    <code>while</code> loops <b style=\"color:blue\">repeat a block of code</b> until a particular <b style=\"color:blue\">condition</b> (a boolean) is no longer true. They are similar to if statements, except we continue to repeat the code block until the condition is false.\n",
    "    </p>"
   ]
  },
  {
   "cell_type": "markdown",
   "metadata": {},
   "source": [
    "<p style='font-size:1.75rem;line-height:1.5'>\n",
    "    Here is an example of a <code>while</code> loop:\n",
    "    </p>"
   ]
  },
  {
   "cell_type": "code",
   "execution_count": 1,
   "metadata": {},
   "outputs": [
    {
     "name": "stdout",
     "output_type": "stream",
     "text": [
      "There are 10 apples left on the tree.\n",
      "A kid picks one off the tree and eats it.... :( \n",
      "\n",
      "There are 9 apples left on the tree.\n",
      "A kid picks one off the tree and eats it.... :( \n",
      "\n",
      "There are 8 apples left on the tree.\n",
      "A kid picks one off the tree and eats it.... :( \n",
      "\n",
      "There are 7 apples left on the tree.\n",
      "A kid picks one off the tree and eats it.... :( \n",
      "\n",
      "There are 6 apples left on the tree.\n",
      "A kid picks one off the tree and eats it.... :( \n",
      "\n",
      "There are 5 apples left on the tree.\n",
      "A kid picks one off the tree and eats it.... :( \n",
      "\n",
      "There are 4 apples left on the tree.\n",
      "A kid picks one off the tree and eats it.... :( \n",
      "\n",
      "There are 3 apples left on the tree.\n",
      "A kid picks one off the tree and eats it.... :( \n",
      "\n",
      "There are 2 apples left on the tree.\n",
      "A kid picks one off the tree and eats it.... :( \n",
      "\n",
      "There are 1 apples left on the tree.\n",
      "A kid picks one off the tree and eats it.... :( \n",
      "\n",
      "There are 0 apples left on the tree.\n",
      "A kid picks one off the tree and eats it.... :( \n",
      "\n"
     ]
    }
   ],
   "source": [
    "apples = 10\n",
    "\n",
    "while apples >= 0:\n",
    "    print('There are ' + str(apples) + ' apples left on the tree.')\n",
    "    print('A kid picks one off the tree and eats it.... :( \\n')\n",
    "    apples -= 1     # 1 is subtracted from the amount of apples since the kid ate it :("
   ]
  },
  {
   "cell_type": "markdown",
   "metadata": {},
   "source": [
    "<p style='font-size:1.75rem;line-height:1.5'>\n",
    "    This program is saying that as long as there are 0 or more apples, subtract one apple.\n",
    "    </p>"
   ]
  },
  {
   "cell_type": "markdown",
   "metadata": {},
   "source": [
    "<p style='font-size:1.75rem;line-height:1.5'>\n",
    "    <b>BEFORE</b> running the following code block, <b style=\"color:blue\">discuss with your partner</b> what you think the value of <code>apples</code> is after the loop has run.\n",
    "    </p>"
   ]
  },
  {
   "cell_type": "code",
   "execution_count": 2,
   "metadata": {},
   "outputs": [
    {
     "name": "stdout",
     "output_type": "stream",
     "text": [
      "-1 apples remain.\n"
     ]
    }
   ],
   "source": [
    "print(str(apples) + ' apples remain.')"
   ]
  },
  {
   "cell_type": "markdown",
   "metadata": {},
   "source": [
    "<p style='font-size:1.75rem;line-height:1.5'>\n",
    "    Does this result surprise you? Remember, Python checks the condition each time <strong>before</strong> the block of code runs.\n",
    "    </p>"
   ]
  },
  {
   "cell_type": "markdown",
   "metadata": {},
   "source": [
    "<p style='font-size:1.75rem;line-height:1.5'>\n",
    "    <b style=\"color:red\">Exercise:</b> \n",
    "    <br> Write a function that raises a number <code>x</code> to an exponent <code>n</code>. This means that we multiply <code>x</code> by itself <code>n</code> times. Use a while loop!\n",
    "    </p>\n",
    "\n",
    "<p style='font-size:1.75rem;line-height:1.5'>\n",
    "    <strong>Hint:</strong> Use a variable <code>original_x</code> to keep the original value of x.\n",
    "    </p>"
   ]
  },
  {
   "cell_type": "code",
   "execution_count": 18,
   "metadata": {},
   "outputs": [],
   "source": [
    "'''Student Answer (using original_x)\n",
    "def exponent(x, n):\n",
    "    # Start your code here (write a while loop!)\n",
    "    original_x = x\n",
    "    while n > 1:\n",
    "        x *= original_x\n",
    "        n -= 1\n",
    "    return x\n",
    "'''\n",
    "\n",
    "def exponent(x, n):\n",
    "    # Start your code here (write a while loop!)\n",
    "    total = 1\n",
    "    while n > 0:\n",
    "        total *= x\n",
    "        n -= 1\n",
    "    return total"
   ]
  },
  {
   "cell_type": "markdown",
   "metadata": {},
   "source": [
    "<p style='font-size:1.75rem;line-height:1.5'>\n",
    "    Use your function to find <code>3</code> to the power of <code>4</code> (2 multiplied by itself 30 times). \n",
    "    <br>You should get <code>81</code>.\n",
    "    </p>"
   ]
  },
  {
   "cell_type": "code",
   "execution_count": 19,
   "metadata": {},
   "outputs": [
    {
     "data": {
      "text/plain": [
       "81"
      ]
     },
     "execution_count": 19,
     "metadata": {},
     "output_type": "execute_result"
    }
   ],
   "source": [
    "# Start your code here\n",
    "exponent(3,4)"
   ]
  },
  {
   "cell_type": "markdown",
   "metadata": {},
   "source": [
    "# For Loops"
   ]
  },
  {
   "cell_type": "markdown",
   "metadata": {},
   "source": [
    "<p style='font-size:1.75rem;line-height:1.5'>\n",
    "    Similar to <code>while</code> loops, <code>for</code> loops also repeat a block of code. However, instead of depending on a condition, for loops <b style=\"color:blue\">iterate over an iterable data structure</b>. \n",
    "    </p>\n",
    "\n",
    "<p style='font-size:1.75rem;line-height:1.5'>\n",
    "    Iterable data structures include:\n",
    "    </p>\n",
    "<ul style='font-size:1.75rem;line-height:1.5'>\n",
    "    <li>Strings</li>\n",
    "    <li>Lists</li>\n",
    "    <li>Tuples</li>\n",
    "    <li>Dictionaries</li>\n",
    "</ul>\n",
    "<p style='font-size:1.75rem;line-height:1.5'>\n",
    "    Here is the general for loop syntax:\n",
    "    </p>\n",
    "\n",
    "```python\n",
    "for var in <iterable>:\n",
    "    # block of code\n",
    "    # Note the colon after 'iterable'\n",
    "```\n",
    "<p style='font-size:1.75rem;line-height:1.5'>\n",
    "    At the beginning of each loop, <code>var</code> is assigned to the first element of the iterable, then the second, and so on. We don't have to assign <code>var</code> beforehand, since it gets assigned when the loop runs.\n",
    "    </p>\n",
    "<p style='font-size:1.75rem;line-height:1.5'>\n",
    "    Here is an example. What do you think will be printed, and in what order?\n",
    "    </p>"
   ]
  },
  {
   "cell_type": "code",
   "execution_count": 20,
   "metadata": {
    "scrolled": false
   },
   "outputs": [
    {
     "name": "stdout",
     "output_type": "stream",
     "text": [
      "bananas\n",
      "apples\n",
      "cherries\n",
      "watermelons\n"
     ]
    }
   ],
   "source": [
    "fruits = ['bananas', 'apples', 'cherries', 'watermelons']\n",
    "\n",
    "for fruit in fruits:\n",
    "    print(fruit)"
   ]
  },
  {
   "cell_type": "markdown",
   "metadata": {},
   "source": [
    "<p style='font-size:1.75rem;line-height:1.5'>\n",
    "    <b style=\"color:red\">Exercise:</b> \n",
    "    <br>Create a function <code>product</code> that takes a tuple as an argument and returns the product of all the numbers in the tuple (all the numbers multiplied by each other).\n",
    "    </p>"
   ]
  },
  {
   "cell_type": "code",
   "execution_count": 21,
   "metadata": {},
   "outputs": [],
   "source": [
    "def product(numbers):\n",
    "    # Define a variable to keep track of the total product\n",
    "    total = 1\n",
    "    \n",
    "    # Use loop through the numbers and update the total\n",
    "    for i in numbers:\n",
    "        total *= i\n",
    "    \n",
    "    # Return the total\n",
    "    return total\n",
    "    "
   ]
  },
  {
   "cell_type": "markdown",
   "metadata": {},
   "source": [
    "<p style='font-size:1.75rem;line-height:1.5'>\n",
    "    Now use your function to find <code>10!</code> (ten factorial), which is the product of the numbers from <code>1</code> to <code>10</code>. You should get <code>3628800</code>\n",
    "    </p>"
   ]
  },
  {
   "cell_type": "code",
   "execution_count": 22,
   "metadata": {
    "scrolled": true
   },
   "outputs": [
    {
     "data": {
      "text/plain": [
       "3628800"
      ]
     },
     "execution_count": 22,
     "metadata": {},
     "output_type": "execute_result"
    }
   ],
   "source": [
    "one_to_ten = (1, 2, 3, 4, 5, 6, 7, 8, 9, 10)\n",
    "\n",
    "# Call product on one_to_ten to find 10! (ten factorial).\n",
    "product(one_to_ten)\n"
   ]
  },
  {
   "cell_type": "markdown",
   "metadata": {},
   "source": [
    "# Range"
   ]
  },
  {
   "cell_type": "markdown",
   "metadata": {},
   "source": [
    "<p style='font-size:1.75rem;line-height:1.5'>\n",
    "    The <code>range</code> function helps us <b style=\"color:blue\">generate a list of numbers</b>. It returns a list, so we can use it in for loops. The syntax is:\n",
    "    </p>\n",
    "\n",
    "```\n",
    "range(start, stop, step)\n",
    "```\n",
    "<p style='font-size:1.75rem;line-height:1.5'>\n",
    "    This works similarly to slicing. The default value for start is <code>0</code>, and the default value for <code>step</code> is <code>1</code>. We always need to specify the stopping point.\n",
    "    </p>\n",
    "<p style='font-size:1.75rem;line-height:1.5'>\n",
    "    For example:\n",
    "    </p>"
   ]
  },
  {
   "cell_type": "code",
   "execution_count": 23,
   "metadata": {
    "scrolled": true
   },
   "outputs": [
    {
     "data": {
      "text/plain": [
       "[0, 1, 2, 3, 4, 5, 6, 7, 8, 9]"
      ]
     },
     "execution_count": 23,
     "metadata": {},
     "output_type": "execute_result"
    }
   ],
   "source": [
    "range(0, 10, 1)  # start is 0, stop is 10, step is 1"
   ]
  },
  {
   "cell_type": "markdown",
   "metadata": {},
   "source": [
    "<p style='font-size:1.75rem;line-height:1.5'>\n",
    "    Cool, right? Note how the list starts at <code>0</code> and ends at <code>9</code>, <b>NOT</b> <code>10</code>, just like slicing. We can also omit everything except the stopping point:\n",
    "    </p>"
   ]
  },
  {
   "cell_type": "code",
   "execution_count": 24,
   "metadata": {},
   "outputs": [
    {
     "data": {
      "text/plain": [
       "[0, 1, 2, 3, 4, 5, 6, 7, 8, 9]"
      ]
     },
     "execution_count": 24,
     "metadata": {},
     "output_type": "execute_result"
    }
   ],
   "source": [
    "range(10)"
   ]
  },
  {
   "cell_type": "markdown",
   "metadata": {},
   "source": [
    "<p style='font-size:1.75rem;line-height:1.5'>\n",
    "    Now try using <code>range</code> in a <code>for</code> loop. Print out the integers from <code>5</code> to <code>19</code>.\n",
    "    </p>"
   ]
  },
  {
   "cell_type": "code",
   "execution_count": 25,
   "metadata": {},
   "outputs": [
    {
     "name": "stdout",
     "output_type": "stream",
     "text": [
      "5\n",
      "6\n",
      "7\n",
      "8\n",
      "9\n",
      "10\n",
      "11\n",
      "12\n",
      "13\n",
      "14\n",
      "15\n",
      "16\n",
      "17\n",
      "18\n",
      "19\n"
     ]
    }
   ],
   "source": [
    "# Start your code here\n",
    "for i in range(5,20):\n",
    "    print(i)\n"
   ]
  },
  {
   "cell_type": "markdown",
   "metadata": {},
   "source": [
    "<p style='font-size:1.75rem;line-height:1.5'>\n",
    "    <code>range</code> is incredibly useful when we want to run a block of code a specific number of times. \n",
    "    </p>"
   ]
  },
  {
   "cell_type": "markdown",
   "metadata": {},
   "source": [
    "<p style='font-size:1.75rem;line-height:1.5'>\n",
    "    <b style=\"color:red\">Exercise:</b> \n",
    "    <br> Write a <code>for</code> loop that doubles a number <code>n</code> times.\n",
    "    </p>"
   ]
  },
  {
   "cell_type": "code",
   "execution_count": null,
   "metadata": {
    "scrolled": true
   },
   "outputs": [],
   "source": [
    "# Start your code here\n",
    "n = 10\n",
    "for _ in range(5):\n",
    "    n *= 2\n",
    "print(n)"
   ]
  },
  {
   "cell_type": "markdown",
   "metadata": {},
   "source": [
    "# Infinite Loops\n",
    "\n",
    "<p style='font-size:1.75rem;line-height:1.5'>\n",
    "    Now, I know what you're thinking. What if the <strong>condition</strong> is <em>always</em> <code>True</code>? For example:\n",
    "    </p>\n",
    "\n",
    "```python\n",
    "while True:\n",
    "    print('INFINITE PRINTS')\n",
    "```\n",
    "<p style='font-size:1.75rem;line-height:1.5'>\n",
    "    If you get stuck running an infinite loop, you can press the square button at the top in Jupyter Notebook to stop it. Don't write infinite loops.\n",
    "    </p>\n",
    "\n",
    "![stop](stop.png)"
   ]
  },
  {
   "cell_type": "markdown",
   "metadata": {},
   "source": [
    "## Prime Numbers\n",
    "\n",
    "<p style='font-size:1.75rem;line-height:1.5'>\n",
    "    A <strong>prime number</strong> is a number that has no factors that divide evenly into it other than 1 and itself. For example, 17 is prime, but 42 is not prime (it is 6 times 7).\n",
    "    </p>\n",
    "    \n",
    "<p style='font-size:1.75rem;line-height:1.5'>\n",
    "    Using a for loop, write a function that checks if the given number is prime. The function should return <code>True</code> if the number is prime, and <code>False</code> otherwise.\n",
    "    </p>\n",
    "    \n",
    "<p style='font-size:1.75rem;line-height:1.5'>\n",
    "    <strong>Hint:</strong> Remember, the modulo operator <code>%</code> returns <code>0</code> when the number divides evenly with no remainder. Also, remember not to check 1 and the number itself, since these do not count for prime numbers.\n",
    "    </p>"
   ]
  },
  {
   "cell_type": "code",
   "execution_count": 26,
   "metadata": {},
   "outputs": [],
   "source": [
    "def prime(n):\n",
    "    # Use a for loop (and range!)\n",
    "    # Remember, don't count 1 or n when you check for factors\n",
    "    for i in range(2,n):\n",
    "        if n%i==0:\n",
    "            return False\n",
    "    return True\n",
    "    "
   ]
  },
  {
   "cell_type": "markdown",
   "metadata": {},
   "source": [
    "<p style='font-size:1.75rem;line-height:1.5'>\n",
    "    Check your answer on <code>104729</code>, the 10000th prime number. (Your function should return <code>True</code> for this number.)\n",
    "    </p>"
   ]
  },
  {
   "cell_type": "code",
   "execution_count": 27,
   "metadata": {},
   "outputs": [
    {
     "data": {
      "text/plain": [
       "True"
      ]
     },
     "execution_count": 27,
     "metadata": {},
     "output_type": "execute_result"
    }
   ],
   "source": [
    "# Call prime on 104729\n",
    "prime(104729)\n"
   ]
  },
  {
   "cell_type": "markdown",
   "metadata": {},
   "source": [
    "## Roger Rabbit\n",
    "\n",
    "<p style='font-size:1.75rem;line-height:1.5'>\n",
    "    Roger Rabbit needs you to fizzbuzz: \n",
    "    <ul style='font-size:1.75rem;line-height:2'>\n",
    "        <li>Print <code>fizz</code> if a number is divisible by <code>3</code></li>\n",
    "        <li>Print <code>buzz</code> if a number is divisible by <code>5</code></li>\n",
    "        <li>Print <code>fizzbuzz</code> if a number is divisble by <code>15</code></li>\n",
    "        <li>If a number is not divisible by any of those, print out the number.</li>\n",
    "    </ul>\n",
    "    </p>\n",
    "    \n",
    "<p style='font-size:1.75rem;line-height:1.5'>    \n",
    "    Fizzbuzz for all the numbers between <code>1</code> and <code>100</code> (including 1 and 100).\n",
    "    </p>"
   ]
  },
  {
   "cell_type": "code",
   "execution_count": 34,
   "metadata": {},
   "outputs": [
    {
     "name": "stdout",
     "output_type": "stream",
     "text": [
      "1\n",
      "2\n",
      "fizz \n",
      "4\n",
      "buzz \n",
      "fizz \n",
      "7\n",
      "8\n",
      "fizz \n",
      "buzz \n",
      "11\n",
      "fizz \n",
      "13\n",
      "14\n",
      "fizz buzz fizzbuzz\n",
      "16\n",
      "17\n",
      "fizz \n",
      "19\n",
      "buzz \n",
      "fizz \n",
      "22\n",
      "23\n",
      "fizz \n",
      "buzz \n",
      "26\n",
      "fizz \n",
      "28\n",
      "29\n",
      "fizz buzz fizzbuzz\n",
      "31\n",
      "32\n",
      "fizz \n",
      "34\n",
      "buzz \n",
      "fizz \n",
      "37\n",
      "38\n",
      "fizz \n",
      "buzz \n",
      "41\n",
      "fizz \n",
      "43\n",
      "44\n",
      "fizz buzz fizzbuzz\n",
      "46\n",
      "47\n",
      "fizz \n",
      "49\n",
      "buzz \n",
      "fizz \n",
      "52\n",
      "53\n",
      "fizz \n",
      "buzz \n",
      "56\n",
      "fizz \n",
      "58\n",
      "59\n",
      "fizz buzz fizzbuzz\n",
      "61\n",
      "62\n",
      "fizz \n",
      "64\n",
      "buzz \n",
      "fizz \n",
      "67\n",
      "68\n",
      "fizz \n",
      "buzz \n",
      "71\n",
      "fizz \n",
      "73\n",
      "74\n",
      "fizz buzz fizzbuzz\n",
      "76\n",
      "77\n",
      "fizz \n",
      "79\n",
      "buzz \n",
      "fizz \n",
      "82\n",
      "83\n",
      "fizz \n",
      "buzz \n",
      "86\n",
      "fizz \n",
      "88\n",
      "89\n",
      "fizz buzz fizzbuzz\n",
      "91\n",
      "92\n",
      "fizz \n",
      "94\n",
      "buzz \n",
      "fizz \n",
      "97\n",
      "98\n",
      "fizz \n",
      "buzz \n"
     ]
    }
   ],
   "source": [
    "# Start your code here\n",
    "for i in range(1,101):\n",
    "    word = ''\n",
    "    if i%3==0 or i%5==0:\n",
    "        if i%3==0:\n",
    "            word += 'fizz '\n",
    "        if i%5==0:\n",
    "            word += 'buzz '\n",
    "        if i%15==0:\n",
    "            word += 'fizzbuzz'\n",
    "        print(word)\n",
    "    else:\n",
    "        print(i)"
   ]
  },
  {
   "cell_type": "markdown",
   "metadata": {},
   "source": [
    "## Jimmy Joe\n",
    "\n",
    "<p style='font-size:1.75rem;line-height:1.5'>\n",
    "    Jimmy Joe received 5 texts from his cousin, John Doe. He wants to count the number of vowels in <strong>each</strong> of the texts. (Your answer should have about 5 integers.)\n",
    "    </p>"
   ]
  },
  {
   "cell_type": "code",
   "execution_count": 35,
   "metadata": {},
   "outputs": [
    {
     "name": "stdout",
     "output_type": "stream",
     "text": [
      "[5, 26, 8, 40, 17]\n"
     ]
    }
   ],
   "source": [
    "# The texts are retrived from the messages server and put into a list\n",
    "texts = ['hows it going jimmy',\n",
    "         'yo I was playing fortnite the other day with my friend josef and we landed in tilted towers',\n",
    "         'it was really lit but we lost',\n",
    "         'also did you know that you can put a loop inside a loop inside a loop inside a loop inside a loop in python?',\n",
    "         'that is basically what artificial intelligence is']\n",
    "\n",
    "# Start your code here\n",
    "vowels_list = []\n",
    "for text in texts:\n",
    "    counter = 0\n",
    "    for char in text:\n",
    "        if char.lower() in 'aeiou':\n",
    "            counter += 1\n",
    "    vowels_list.append(counter)\n",
    "print(vowels_list)\n"
   ]
  }
 ],
 "metadata": {
  "kernelspec": {
   "display_name": "Python 3",
   "language": "python",
   "name": "python3"
  },
  "language_info": {
   "codemirror_mode": {
    "name": "ipython",
    "version": 3
   },
   "file_extension": ".py",
   "mimetype": "text/x-python",
   "name": "python",
   "nbconvert_exporter": "python",
   "pygments_lexer": "ipython3",
   "version": "3.8.1"
  }
 },
 "nbformat": 4,
 "nbformat_minor": 4
}
