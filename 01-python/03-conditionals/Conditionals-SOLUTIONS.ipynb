{
 "cells": [
  {
   "cell_type": "markdown",
   "metadata": {},
   "source": [
    "# Conditional Statements"
   ]
  },
  {
   "cell_type": "markdown",
   "metadata": {},
   "source": [
    "<p style='font-size:1.75rem;line-height:1.5'>\n",
    "    <b style=\"color:red\">Conditional statements</b> tell the program <b style=\"color:blue\">when to run a particular block of code</b>. Often, we only want something to happen when a certain <b style=\"color:blue\">condition is met</b>.\n",
    "    </p>\n",
    "    \n",
    "<p style='font-size:1.75rem;line-height:1.5'>   \n",
    "    For example, we might want a robot to stop if it is a particular distance from a wall.\n",
    "    </p>\n",
    "    \n",
    "<p style='font-size:1.75rem;line-height:1.5'>\n",
    "    In Python, we can use <b style=\"color:red\">comparison operators</b> along with the keywords <code>if</code>, <code>else</code>, and <code>elif</code> to write conditional statements.\n",
    "    </p>"
   ]
  },
  {
   "cell_type": "markdown",
   "metadata": {},
   "source": [
    "# Comparing Numbers"
   ]
  },
  {
   "cell_type": "markdown",
   "metadata": {},
   "source": [
    "<p style='font-size:1.75rem;line-height:1.5'>\n",
    "    We often need to know whether one number is <b style=\"color:blue\">larger than</b>, <b style=\"color:red\">less than</b>, or <b>equal to</b> another. The following operators allow us to do this:\n",
    "    </p>\n",
    "<ul style='font-size:1.75rem;line-height:1.5'>\n",
    "    <li><code>&lt;</code>: less than</li>\n",
    "    <li><code>&lt;=</code>: less than or equal to</li>\n",
    "    <li><code>&gt;</code>: greater than</li>\n",
    "    <li><code>&gt;=</code>: greater than or equal to</li>\n",
    "    <li><code>==</code>: is equal to</li>\n",
    "    <li><code>!=</code>: is not equal to</li>\n",
    "    <li><code>is</code>: is identical to</li>\n",
    "    <li><code>is not</code>: not identical to</li>\n",
    "</ul>\n",
    "\n",
    "<p style='font-size:1.75rem;line-height:1.5'>\n",
    "    Check if two numbers (either int or float) are <strong>equal</strong>.\n",
    "    </p>"
   ]
  },
  {
   "cell_type": "code",
   "execution_count": 1,
   "metadata": {},
   "outputs": [
    {
     "data": {
      "text/plain": [
       "False"
      ]
     },
     "execution_count": 1,
     "metadata": {},
     "output_type": "execute_result"
    }
   ],
   "source": [
    "# Start your code here\n",
    "2==3\n"
   ]
  },
  {
   "cell_type": "markdown",
   "metadata": {},
   "source": [
    "<p style='font-size:1.75rem;line-height:1.5'>\n",
    "    Check if one number is <strong>less than</strong> another.\n",
    "    </p>"
   ]
  },
  {
   "cell_type": "code",
   "execution_count": 2,
   "metadata": {},
   "outputs": [
    {
     "data": {
      "text/plain": [
       "True"
      ]
     },
     "execution_count": 2,
     "metadata": {},
     "output_type": "execute_result"
    }
   ],
   "source": [
    "# Start your code here\n",
    "1<2\n"
   ]
  },
  {
   "cell_type": "markdown",
   "metadata": {},
   "source": [
    "<p style='font-size:1.75rem;line-height:1.5'>\n",
    "    Check if one number is <strong>greater than or equal to</strong> another.\n",
    "    </p>"
   ]
  },
  {
   "cell_type": "code",
   "execution_count": 3,
   "metadata": {},
   "outputs": [
    {
     "data": {
      "text/plain": [
       "True"
      ]
     },
     "execution_count": 3,
     "metadata": {},
     "output_type": "execute_result"
    }
   ],
   "source": [
    "# Start your code here\n",
    "3>=2\n"
   ]
  },
  {
   "cell_type": "markdown",
   "metadata": {},
   "source": [
    "<p style='font-size:1.75rem;line-height:1.5'>\n",
    "    Run <code>2 > 2</code> below. Is the result <b>what you expected</b>?\n",
    "    </p>"
   ]
  },
  {
   "cell_type": "code",
   "execution_count": 4,
   "metadata": {},
   "outputs": [
    {
     "data": {
      "text/plain": [
       "False"
      ]
     },
     "execution_count": 4,
     "metadata": {},
     "output_type": "execute_result"
    }
   ],
   "source": [
    "# Start your code here\n",
    "2 > 2\n",
    "\n"
   ]
  },
  {
   "cell_type": "markdown",
   "metadata": {},
   "source": [
    "<p style='font-size:1.75rem;line-height:1.5'>\n",
    "    Run <code>2 >= 2</code> below. Is the result <b>what you expected</b>?\n",
    "    </p>"
   ]
  },
  {
   "cell_type": "code",
   "execution_count": null,
   "metadata": {},
   "outputs": [],
   "source": [
    "# Start your code here\n",
    "2 >= 2\n"
   ]
  },
  {
   "cell_type": "markdown",
   "metadata": {},
   "source": [
    "<p style='font-size:1.75rem;line-height:1.5'>\n",
    "    Run <code>2==2.0</code> below. <b style=\"color:red\">Before running it</b>, do you expect the result to be <code>True</code> or <code>False</code>? \n",
    "    <br> What does the result tell us about how <code>==</code> <b style=\"color:blue\">compares integers and floats?</b>\n",
    "    </p>"
   ]
  },
  {
   "cell_type": "code",
   "execution_count": 3,
   "metadata": {},
   "outputs": [
    {
     "data": {
      "text/plain": [
       "1.0"
      ]
     },
     "execution_count": 3,
     "metadata": {},
     "output_type": "execute_result"
    }
   ],
   "source": [
    "# Start your code here\n",
    "2 == 2.0\n"
   ]
  },
  {
   "cell_type": "markdown",
   "metadata": {},
   "source": [
    "<p style='font-size:1.75rem;line-height:1.5'>\n",
    "    Look at the code below. Do you expect the result to be <code>True</code> or <code>False</code>? What does the result tell us about how <code>is</code> compares integers and floats?\n",
    "    </p>"
   ]
  },
  {
   "cell_type": "code",
   "execution_count": 4,
   "metadata": {},
   "outputs": [
    {
     "data": {
      "text/plain": [
       "False"
      ]
     },
     "execution_count": 4,
     "metadata": {},
     "output_type": "execute_result"
    }
   ],
   "source": [
    "# Start your code here\n",
    "2 is 2.0\n"
   ]
  },
  {
   "cell_type": "markdown",
   "metadata": {},
   "source": [
    "# Comparing Booleans"
   ]
  },
  {
   "cell_type": "markdown",
   "metadata": {},
   "source": [
    "<p style='font-size:1.75rem;line-height:1.5'>\n",
    "    Booleans can be compared using the <code>==</code>, <code>!=</code>, <code>is</code>, and <code>is not</code> operators.\n",
    "    </p>\n",
    "<p style='font-size:1.75rem;line-height:1.5'>\n",
    "    Check if <code>True</code> is <strong>equal to</strong> <code>False</code> using <code>==</code>.\n",
    "    </p>"
   ]
  },
  {
   "cell_type": "code",
   "execution_count": null,
   "metadata": {},
   "outputs": [],
   "source": [
    "# Start your code here\n",
    "True == False\n"
   ]
  },
  {
   "cell_type": "markdown",
   "metadata": {},
   "source": [
    "<p style='font-size:1.75rem;line-height:1.5'>\n",
    "    Check if <code>False</code> is <strong>equal to</strong> <code>0</code> using <code>==</code>. What does the result tell us about how <code>==</code> compares booleans and zero?\n",
    "    </p>"
   ]
  },
  {
   "cell_type": "code",
   "execution_count": 6,
   "metadata": {},
   "outputs": [
    {
     "data": {
      "text/plain": [
       "True"
      ]
     },
     "execution_count": 6,
     "metadata": {},
     "output_type": "execute_result"
    }
   ],
   "source": [
    "# Start your code here\n",
    "False == 0\n"
   ]
  },
  {
   "cell_type": "markdown",
   "metadata": {},
   "source": [
    "<p style='font-size:1.75rem;line-height:1.5'>\n",
    "    Check if <code>False</code> is <strong>identical to</strong> <code>0</code> using <code>is</code>. What does the result tell us about how <code>is</code> compares booleans and zero?\n",
    "    </p>"
   ]
  },
  {
   "cell_type": "code",
   "execution_count": 5,
   "metadata": {},
   "outputs": [
    {
     "data": {
      "text/plain": [
       "False"
      ]
     },
     "execution_count": 5,
     "metadata": {},
     "output_type": "execute_result"
    }
   ],
   "source": [
    "False is 0"
   ]
  },
  {
   "cell_type": "markdown",
   "metadata": {},
   "source": [
    "# Comparing Strings"
   ]
  },
  {
   "cell_type": "markdown",
   "metadata": {},
   "source": [
    "<p style='font-size:1.75rem;line-height:1.5'>\n",
    "    We can compare strings using the <code>==</code>, <code>!=</code>, <code>is</code>, and <code>is not</code> operators.\n",
    "    </p>\n",
    "<p style='font-size:1.75rem;line-height:1.5'>\n",
    "    Check if two strings are <strong>equal</strong> using <code>==</code>.\n",
    "    </p>"
   ]
  },
  {
   "cell_type": "code",
   "execution_count": 6,
   "metadata": {},
   "outputs": [
    {
     "data": {
      "text/plain": [
       "False"
      ]
     },
     "execution_count": 6,
     "metadata": {},
     "output_type": "execute_result"
    }
   ],
   "source": [
    "# Start your code here\n",
    "\"hi\"==\"hello\"\n"
   ]
  },
  {
   "cell_type": "markdown",
   "metadata": {},
   "source": [
    "<p style='font-size:1.75rem;line-height:1.5'>\n",
    "    Check if two strings are <strong>not identical</strong> using <code>is not</code>.\n",
    "    </p>"
   ]
  },
  {
   "cell_type": "code",
   "execution_count": 7,
   "metadata": {},
   "outputs": [
    {
     "data": {
      "text/plain": [
       "False"
      ]
     },
     "execution_count": 7,
     "metadata": {},
     "output_type": "execute_result"
    }
   ],
   "source": [
    "# Start your code here\n",
    "\"hi\"is not\"hi\"\n"
   ]
  },
  {
   "cell_type": "markdown",
   "metadata": {},
   "source": [
    "<p style='font-size:1.75rem;line-height:1.5'>\n",
    "    For strings, <code>==</code> and <code>is</code> generally do the same thing.\n",
    "    </p>"
   ]
  },
  {
   "cell_type": "markdown",
   "metadata": {},
   "source": [
    "# Logical Operators"
   ]
  },
  {
   "cell_type": "markdown",
   "metadata": {},
   "source": [
    "<p style='font-size:1.75rem;line-height:1.5'>\n",
    "    We can also use the logical operators <code>not</code>, <code>and</code>, and <code>or</code> on booleans to make more complicated logical statements:\n",
    "    </p>\n",
    "<ul style='font-size:1.75rem;line-height:1.5'>\n",
    "    <li><code>not</code>: <code>True</code> if the boolean is <code>False</code>, <code>False</code> otherwise.</li>\n",
    "    <li><code>and</code>: <code>True</code> if <strong>both</strong> booleans are <code>True</code>, <code>False</code> otherwise.</li>\n",
    "    <li><code>or</code>: <code>True</code> if <strong>either</strong> boolean is <code>True</code>, <code>False</code> otherwise.</li>\n",
    "</ul>\n",
    "<p style='font-size:1.75rem;line-height:1.5'>\n",
    "    Do you expect the following code to evaluate to <code>True</code> or <code>False</code>? Why?\n",
    "    </p>"
   ]
  },
  {
   "cell_type": "code",
   "execution_count": 8,
   "metadata": {},
   "outputs": [
    {
     "data": {
      "text/plain": [
       "True"
      ]
     },
     "execution_count": 8,
     "metadata": {},
     "output_type": "execute_result"
    }
   ],
   "source": [
    "not False"
   ]
  },
  {
   "cell_type": "markdown",
   "metadata": {},
   "source": [
    "<p style='font-size:1.75rem;line-height:1.5'>\n",
    "    Do you expect the following code to evaluate to <code>True</code> or <code>False</code>? Why?\n",
    "    </p>"
   ]
  },
  {
   "cell_type": "code",
   "execution_count": 9,
   "metadata": {},
   "outputs": [
    {
     "data": {
      "text/plain": [
       "False"
      ]
     },
     "execution_count": 9,
     "metadata": {},
     "output_type": "execute_result"
    }
   ],
   "source": [
    "True and False"
   ]
  },
  {
   "cell_type": "markdown",
   "metadata": {},
   "source": [
    "<p style='font-size:1.75rem;line-height:1.5'>\n",
    "    Do you expect the following code to evaluate to <code>True</code> or <code>False</code>? Why?\n",
    "    </p>"
   ]
  },
  {
   "cell_type": "code",
   "execution_count": 10,
   "metadata": {},
   "outputs": [
    {
     "data": {
      "text/plain": [
       "True"
      ]
     },
     "execution_count": 10,
     "metadata": {},
     "output_type": "execute_result"
    }
   ],
   "source": [
    "True or True"
   ]
  },
  {
   "cell_type": "markdown",
   "metadata": {},
   "source": [
    "<p style='font-size:1.75rem;line-height:1.5'>\n",
    "    Like mathematical operators, logical operators also have an order of operations: first <code>not</code>, then <code>and</code>, then <code>or</code>. Based on this order, do you expect the following code to evaluate to <code>True</code> or <code>False</code>? Why?"
   ]
  },
  {
   "cell_type": "code",
   "execution_count": 11,
   "metadata": {},
   "outputs": [
    {
     "data": {
      "text/plain": [
       "True"
      ]
     },
     "execution_count": 11,
     "metadata": {},
     "output_type": "execute_result"
    }
   ],
   "source": [
    "not False or True and True"
   ]
  },
  {
   "cell_type": "markdown",
   "metadata": {},
   "source": [
    "<p style='font-size:1.75rem;line-height:1.5'>\n",
    "    We can also use parenthesis. Whatever is inside the parenthesis is evaluated first. Do you expect the following code to evaluate to <code>True</code> or <code>False</code>? Why?\n",
    "    </p>"
   ]
  },
  {
   "cell_type": "code",
   "execution_count": 12,
   "metadata": {},
   "outputs": [
    {
     "data": {
      "text/plain": [
       "False"
      ]
     },
     "execution_count": 12,
     "metadata": {},
     "output_type": "execute_result"
    }
   ],
   "source": [
    "not (False or True) and True"
   ]
  },
  {
   "cell_type": "markdown",
   "metadata": {},
   "source": [
    "# Combining Comparisons"
   ]
  },
  {
   "cell_type": "markdown",
   "metadata": {},
   "source": [
    "<p style='font-size:1.75rem;line-height:1.5'>\n",
    "    As we have seen in previous exercises, comparison statements evaluate to booleans. This means that we can combine multiple comparisons using logical operators!\n",
    "    </p>\n",
    "<p style='font-size:1.75rem;line-height:1.5'>\n",
    "    Do you expect each block of code to evaluate to <code>True</code> or <code>False</code>? Why?\n",
    "    </p>"
   ]
  },
  {
   "cell_type": "code",
   "execution_count": 13,
   "metadata": {},
   "outputs": [
    {
     "data": {
      "text/plain": [
       "True"
      ]
     },
     "execution_count": 13,
     "metadata": {},
     "output_type": "execute_result"
    }
   ],
   "source": [
    "1 > 3 or 4 == 4.0"
   ]
  },
  {
   "cell_type": "code",
   "execution_count": 14,
   "metadata": {},
   "outputs": [
    {
     "data": {
      "text/plain": [
       "True"
      ]
     },
     "execution_count": 14,
     "metadata": {},
     "output_type": "execute_result"
    }
   ],
   "source": [
    "1 == 1 and 1 > -1"
   ]
  },
  {
   "cell_type": "markdown",
   "metadata": {},
   "source": [
    "<p style='font-size:1.75rem;line-height:1.5'>\n",
    "    Try making your own statement using comparison and logical operators. Do you expect your statement to evaluate to <code>True</code> or <code>False</code>? Why?\n",
    "    </p>"
   ]
  },
  {
   "cell_type": "code",
   "execution_count": 15,
   "metadata": {},
   "outputs": [
    {
     "data": {
      "text/plain": [
       "False"
      ]
     },
     "execution_count": 15,
     "metadata": {},
     "output_type": "execute_result"
    }
   ],
   "source": [
    "# Start your code here\n",
    "True == False\n"
   ]
  },
  {
   "cell_type": "markdown",
   "metadata": {},
   "source": [
    "# Conditional Statements"
   ]
  },
  {
   "cell_type": "markdown",
   "metadata": {},
   "source": [
    "<p style='font-size:1.75rem;line-height:1.5'>\n",
    "    We can use <code>if</code>, <code>else</code>, and <code>elif</code> in order to tell the program whether to run a particular indented block of code based on a boolean.\n",
    "    </p>\n",
    "<ul style='font-size:1.75rem;line-height:1.5'>\n",
    "    <li><code>if</code>: Run code if boolean is <code>True</code>.</li>\n",
    "    <li><code>elif</code>: Run code if previous conditions are <code>False</code> and boolean is <code>True</code>.</li>\n",
    "    <li><code>else</code>: Run code if previous conditions are <code>False</code>.</li>\n",
    "</ul>\n",
    "<p style='font-size:1.75rem;line-height:1.5'>\n",
    "    Let's start with an example of a simple if statement. What do you expect to be printed for different values of <code>n</code>? Why? Try choosing different numbers and see what happens.\n",
    "    </p>"
   ]
  },
  {
   "cell_type": "code",
   "execution_count": 16,
   "metadata": {},
   "outputs": [],
   "source": [
    "# Choose n by assigning the variable\n",
    "n = 1\n",
    "\n",
    "if n > 10:\n",
    "    print('n is greater than 10')"
   ]
  },
  {
   "cell_type": "markdown",
   "metadata": {},
   "source": [
    "<p style='font-size:1.75rem;line-height:1.5'>\n",
    "    If <code>n</code> is less than or equal to 10, nothing is printed since the condition is false (remember, <code>&gt;</code> means <em>strictly</em> greater than).\n",
    "    </p>\n",
    "<p style='font-size:1.75rem;line-height:1.5'> \n",
    "    We can improve our code by adding an <code>elif</code> statement. Try running the code again for several numbers and think about what is happening.\n",
    "    </p>\n",
    "<p style='font-size:1.75rem;line-height:1.5'>\n",
    "    Remember, an <code>elif</code> statement only runs the code block if all previous conditions were <code>False</code>.\n",
    "    </p>"
   ]
  },
  {
   "cell_type": "code",
   "execution_count": 17,
   "metadata": {},
   "outputs": [
    {
     "name": "stdout",
     "output_type": "stream",
     "text": [
      "n is less than 10\n"
     ]
    }
   ],
   "source": [
    "n = 1\n",
    "\n",
    "if n > 10:\n",
    "    print('n is greater than 10')\n",
    "elif n < 10:\n",
    "    print('n is less than 10')"
   ]
  },
  {
   "cell_type": "markdown",
   "metadata": {},
   "source": [
    "<p style='font-size:1.75rem;line-height:1.5'>\n",
    "    Our code is better, but we still get no feedback if <code>n</code> is exactly 10. An <code>else</code> statement will run if all previous conditions were <code>False</code>. Try running the following code for different values of <code>n</code>, and make sure to try 10.\n",
    "    </p>"
   ]
  },
  {
   "cell_type": "code",
   "execution_count": 18,
   "metadata": {},
   "outputs": [
    {
     "name": "stdout",
     "output_type": "stream",
     "text": [
      "n is less than 10\n"
     ]
    }
   ],
   "source": [
    "n = 1\n",
    "\n",
    "if n > 10:\n",
    "    print('n is greater than 10')\n",
    "elif n < 10:\n",
    "    print('n is less than 10')\n",
    "else:\n",
    "    print('n is 10')"
   ]
  },
  {
   "cell_type": "markdown",
   "metadata": {},
   "source": [
    "<p style='font-size:1.75rem;line-height:1.5'>\n",
    "    We can also nest if statements. Examine the following code and think about what will happen for different values of <code>n</code>. (Remember, an if statement is just a block of code that can be within another if statement!)\n",
    "    </p>"
   ]
  },
  {
   "cell_type": "code",
   "execution_count": 20,
   "metadata": {},
   "outputs": [
    {
     "name": "stdout",
     "output_type": "stream",
     "text": [
      "n is not positive!\n"
     ]
    }
   ],
   "source": [
    "n = -1\n",
    "\n",
    "if n > 0:\n",
    "    if n > 10:\n",
    "        print('n is greater than 10')\n",
    "    elif n < 10:\n",
    "        print('n is less than 10')\n",
    "    else:\n",
    "        print('n is 10')\n",
    "else:\n",
    "    print('n is not positive!')"
   ]
  },
  {
   "cell_type": "markdown",
   "metadata": {},
   "source": [
    "# The Candy Party"
   ]
  },
  {
   "cell_type": "markdown",
   "metadata": {},
   "source": [
    "<p style='font-size:1.75rem;line-height:1.5'>\n",
    "    When beavers get together for a party, they like to have candy. A beaver party is successful when the number of candies is between 40 and 60, inclusive. Unless it is the weekend, in which case there is no upper bound on the number of candies.\n",
    "    </p>\n",
    "<p style='font-size:1.75rem;line-height:1.5'>\n",
    "    Print <code>True</code> if the party with the given values is successful, or <code>False</code> otherwise. Some examples:\n",
    "    </p>\n",
    "<ul style='font-size:1.75rem;line-height:1.5'>\n",
    "    <li>If it is the weekend and there are 21 candies, print <code>False</code>.</li>\n",
    "    <li>If it is the weekend and there are 42 candies, print <code>True</code>.</li>\n",
    "    <li>If it is a weekday and there are 63 candies, print <code>False</code>.</li>\n",
    "</ul>\n",
    "<p style='font-size:1.75rem;line-height:1.5'>\n",
    "    Try your code for different values of <code>candies</code> and <code>is_weekend</code> to test it.\n",
    "    </p>"
   ]
  },
  {
   "cell_type": "code",
   "execution_count": 26,
   "metadata": {},
   "outputs": [
    {
     "name": "stdout",
     "output_type": "stream",
     "text": [
      "False\n"
     ]
    }
   ],
   "source": [
    "# Change these to test your code!\n",
    "candies = 63\n",
    "is_weekend = False\n",
    "\n",
    "# Start your code here\n",
    "if is_weekend:\n",
    "    if candies >= 40:\n",
    "        print(True)\n",
    "    else:\n",
    "        print(False)\n",
    "else:\n",
    "    if candies >= 40 and candies <= 60:\n",
    "        print(True)\n",
    "    else:\n",
    "        print(False)\n",
    "\n"
   ]
  },
  {
   "cell_type": "markdown",
   "metadata": {},
   "source": [
    "# Tennis Game"
   ]
  },
  {
   "cell_type": "markdown",
   "metadata": {},
   "source": [
    "<p style='font-size:1.75rem;line-height:1.5'>\n",
    "    You are playing doubles in a tennis game. The variable <code>you</code> is your tennis skill level, from 0 to 10. <code>tm</code> is your teammate's tennis skill level, from 0 to 10. Your chances of winning are <code>0</code> = no, <code>1</code> = maybe, and <code>2</code> = yes. Your chances are based on the following conditions:\n",
    "    </p>\n",
    "<ul style='font-size:1.75rem;line-height:1.5'>\n",
    "    <li>If your skill level is 3 or more above your teammate's, then your chances are <code>2</code>.</li>\n",
    "    <li>If your skill level is within 2 of your teammate's, the your chances are <code>1</code>.</li>\n",
    "    <li>If your skill level is 3 or less below your teammate's, then your chances are <code>0</code>.</li>\n",
    "</ul>\n",
    "<p style='font-size:1.75rem;line-height:1.5'>\n",
    "    Based on you and your teammate's skill levels, print your chances of winning. Some examples:\n",
    "    </p>\n",
    "<ul style='font-size:1.75rem;line-height:1.5'>\n",
    "    <li>If <code>you</code> is <code>8</code> and <code>tm</code> is <code>5</code>, print <code>2</code>.</li>\n",
    "    <li>If <code>you</code> is <code>1</code> and <code>tm</code> is <code>7</code>, print <code>0</code>.</li>\n",
    "    <li>If <code>you</code> is <code>6</code> and <code>tm</code> is <code>4</code>, print <code>1</code>.</li>\n",
    "</ul>\n",
    "<p style='font-size:1.75rem;line-height:1.5'>\n",
    "    Check your answer by running the code several times and manually checking the result.\n",
    "    </p>"
   ]
  },
  {
   "cell_type": "code",
   "execution_count": 28,
   "metadata": {},
   "outputs": [
    {
     "name": "stdout",
     "output_type": "stream",
     "text": [
      "You: 6\n",
      "Teammate: 8\n",
      "1\n"
     ]
    }
   ],
   "source": [
    "# This code generates and prints the skill levels.\n",
    "# (Don't worry about understanding it.)\n",
    "from random import randint     # import the randint function\n",
    "you = randint(0, 10)           # pick a random integer between 0 and 10\n",
    "tm = randint(0, 10)            # pick a random integer between 0 and 10\n",
    "print(\"You: \" + str(you))      # print your skill level\n",
    "print(\"Teammate: \" + str(tm))  # print teammate's skill level\n",
    "\n",
    "# Start your code here\n",
    "if you >= tm+3:\n",
    "    print(2)\n",
    "elif you >= tm-2 and you <= tm+2:\n",
    "    print(1)\n",
    "elif you <= tm-3:\n",
    "    print(0)\n",
    "\n"
   ]
  },
  {
   "cell_type": "markdown",
   "metadata": {},
   "source": [
    "# Lone Sum"
   ]
  },
  {
   "cell_type": "markdown",
   "metadata": {},
   "source": [
    "<p style='font-size:1.75rem;line-height:1.5'>\n",
    "    Given three random integers <code>a</code>, <code>b</code>, and <code>c</code>, print their sum. However, if two numbers have the same value, neither value counts towards the sum. For example:\n",
    "    </p>\n",
    "<ul style='font-size:1.75rem;line-height:1.5'>\n",
    "    <li>If <code>a</code> is <code>3</code>, <code>b</code> is <code>2</code>, and <code>c</code> is <code>1</code>, then print <code>6</code>.</li>\n",
    "    <li>If <code>a</code> is <code>3</code>, <code>b</code> is <code>2</code>, and <code>c</code> is <code>2</code>, then print <code>3</code>.</li>\n",
    "</ul>\n",
    "<p style='font-size:1.75rem;line-height:1.5'>\n",
    "Check your answer by running the code several times and manually checking the result.\n",
    "    </p>"
   ]
  },
  {
   "cell_type": "code",
   "execution_count": 29,
   "metadata": {},
   "outputs": [
    {
     "name": "stdout",
     "output_type": "stream",
     "text": [
      "a: 3\n",
      "b: 1\n",
      "c: 1\n",
      "3\n"
     ]
    }
   ],
   "source": [
    "# This code generates and prints the random numbers.\n",
    "# (Don't worry about understanding it for now.)\n",
    "from random import randint  # import the randint function\n",
    "a = randint(0, 5)           # pick a random integer between 0 and 5\n",
    "b = randint(0, 5)           # pick a random integer between 0 and 5\n",
    "c = randint(0, 5)           # pick a random integer between 0 and 5\n",
    "print('a: ' + str(a))       # print a\n",
    "print('b: ' + str(b))       # print b\n",
    "print('c: ' + str(c))       # print c\n",
    "\n",
    "# Start your code here\n",
    "if a==b and b==c:\n",
    "    print(0)\n",
    "elif a==b:\n",
    "    print(c)\n",
    "elif b==c:\n",
    "    print(a)\n",
    "elif a==c:\n",
    "    print(b)\n",
    "else:\n",
    "    print(a+b+c) \n",
    "\n"
   ]
  }
 ],
 "metadata": {
  "kernelspec": {
   "display_name": "Python 2",
   "language": "python",
   "name": "python2"
  },
  "language_info": {
   "codemirror_mode": {
    "name": "ipython",
    "version": 2
   },
   "file_extension": ".py",
   "mimetype": "text/x-python",
   "name": "python",
   "nbconvert_exporter": "python",
   "pygments_lexer": "ipython2",
   "version": "2.7.16"
  }
 },
 "nbformat": 4,
 "nbformat_minor": 2
}
