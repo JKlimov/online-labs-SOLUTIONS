{
 "cells": [
  {
   "cell_type": "markdown",
   "metadata": {},
   "source": [
    "### Imports"
   ]
  },
  {
   "cell_type": "code",
   "execution_count": null,
   "metadata": {},
   "outputs": [],
   "source": [
    "# imports test\n",
    "import cv2\n",
    "import numpy as np\n",
    "import matplotlib\n",
    "from matplotlib import pyplot as plot\n",
    "%matplotlib auto"
   ]
  },
  {
   "cell_type": "markdown",
   "metadata": {},
   "source": [
    "### Package Versions"
   ]
  },
  {
   "cell_type": "code",
   "execution_count": null,
   "metadata": {},
   "outputs": [],
   "source": [
    "# check package versions\n",
    "print(f'cv2 version: {cv2.__version__}')\n",
    "print(f'numpy version: {np.version.version}')\n",
    "print(f'matplotlib version: {matplotlib.__version__}')"
   ]
  },
  {
   "cell_type": "markdown",
   "metadata": {},
   "source": [
    "### NumPy"
   ]
  },
  {
   "cell_type": "code",
   "execution_count": null,
   "metadata": {},
   "outputs": [],
   "source": [
    "# numpy test - create array of zeros\n",
    "np.zeros((500,500,3),np.uint8)"
   ]
  },
  {
   "cell_type": "markdown",
   "metadata": {},
   "source": [
    "### Matplotlib + Pyplot"
   ]
  },
  {
   "cell_type": "code",
   "execution_count": null,
   "metadata": {},
   "outputs": [],
   "source": [
    "# pyplot test - display image in jupyter via pyplot\n",
    "import numpy as np\n",
    "import cv2\n",
    "from matplotlib import pyplot as plot\n",
    "%matplotlib inline\n",
    "\n",
    "# create checkerboard pattern numpy array\n",
    "checkerboard = np.array([[0, 1, 0, 1, 0, 1, 0, 1, 0, 1],\n",
    "                         [1, 0, 1, 0, 1, 0, 1, 0, 1, 0],\n",
    "                         [0, 1, 0, 1, 0, 1, 0, 1, 0, 1],\n",
    "                         [1, 0, 1, 0, 1, 0, 1, 0, 1, 0],\n",
    "                         [0, 1, 0, 1, 0, 1, 0, 1, 0, 1],\n",
    "                         [1, 0, 1, 0, 1, 0, 1, 0, 1, 0],\n",
    "                         [0, 1, 0, 1, 0, 1, 0, 1, 0, 1],\n",
    "                         [1, 0, 1, 0, 1, 0, 1, 0, 1, 0],\n",
    "                         [0, 1, 0, 1, 0, 1, 0, 1, 0, 1],\n",
    "                         [1, 0, 1, 0, 1, 0, 1, 0, 1, 0]])\n",
    "\n",
    "# show image\n",
    "plot.imshow(checkerboard)\n",
    "plot.show()"
   ]
  },
  {
   "cell_type": "markdown",
   "metadata": {},
   "source": [
    "### CV2 Image"
   ]
  },
  {
   "cell_type": "code",
   "execution_count": null,
   "metadata": {},
   "outputs": [],
   "source": [
    "# cv2 test - modify and show an image with opencv\n",
    "import cv2\n",
    "import matplotlib\n",
    "%matplotlib auto\n",
    "\n",
    "# read image\n",
    "image = cv2.imread(\"surprised_pikachu.png\")\n",
    "\n",
    "# draw line on image\n",
    "cv2.line(image,(0,0),(499,499),(255,0,0),5)\n",
    "\n",
    "# show image\n",
    "cv2.imshow(\"image\",image)\n",
    "cv2.waitKey(0)\n",
    "cv2.destroyAllWindows()"
   ]
  },
  {
   "cell_type": "markdown",
   "metadata": {},
   "source": [
    "### CV2 ORB"
   ]
  },
  {
   "cell_type": "code",
   "execution_count": null,
   "metadata": {},
   "outputs": [],
   "source": [
    "import cv2\n",
    "\n",
    "# Read image into grayscale\n",
    "image = cv2.imread('mit_stata_center.jpg')\n",
    "grayImage = cv2.cvtColor(image, cv2.COLOR_BGR2GRAY)      \n",
    "\n",
    "# Set the maximum number of features detected via nFeatures\n",
    "nFeatures = 500\n",
    "\n",
    "# Create an ORB object\n",
    "orb = cv2.ORB_create(nFeatures)\n",
    "\n",
    "# Get keypoints of the grayscale image via orb.detectAndCompute\n",
    "keypoints, descriptors = orb.detectAndCompute(grayImage, None)     \n",
    "\n",
    "# Draw the keypoints onto the image via cv2.drawKeypoints\n",
    "cv2.drawKeypoints(image, keypoints, image, flags=5)\n",
    "\n",
    "# Show image\n",
    "cv2.imshow('ORB Features', image)\n",
    "\n",
    "cv2.waitKey(0)\n",
    "cv2.destroyAllWindows()\n",
    "\n",
    "# Print the number of keypoints detected, and the nFeatures\n",
    "print(f'# ORB Keypoints: {len(keypoints)}, nFeatures = {nFeatures}')"
   ]
  },
  {
   "cell_type": "markdown",
   "metadata": {},
   "source": [
    "### CV2 Video"
   ]
  },
  {
   "cell_type": "code",
   "execution_count": null,
   "metadata": {},
   "outputs": [],
   "source": [
    "# video camera test - show raw video stream\n",
    "import numpy as np\n",
    "import cv2\n",
    "\n",
    "capture = cv2.VideoCapture(0)\n",
    "\n",
    "while(True):\n",
    "    # Capture frame-by-frame\n",
    "    ret, frame = capture.read()\n",
    "\n",
    "    # Display the resulting frame\n",
    "    cv2.imshow('frame',frame)\n",
    "    if cv2.waitKey(5) & 0xFF == 27: #Press `esc` to exit\n",
    "        break\n",
    "\n",
    "# When everything done, release the capture\n",
    "capture.release()\n",
    "cv2.destroyAllWindows()"
   ]
  },
  {
   "cell_type": "markdown",
   "metadata": {},
   "source": [
    "### CV2 Video Overlay"
   ]
  },
  {
   "cell_type": "code",
   "execution_count": null,
   "metadata": {},
   "outputs": [],
   "source": [
    "# video/cv2 test - modify and show video with opencv\n",
    "\n",
    "import numpy as np\n",
    "import cv2\n",
    "\n",
    "capture = cv2.VideoCapture(0)\n",
    "\n",
    "while(True):\n",
    "    # Capture frame-by-frame\n",
    "    ret, frame = capture.read()\n",
    "\n",
    "    # Display the resulting frame\n",
    "    \n",
    "    font = cv2.FONT_HERSHEY_SIMPLEX\n",
    "    cv2.putText(frame,'This is okay; press `esc` to exit',(10,500), font, 2,(255,255,255),2,cv2.LINE_AA)\n",
    "    cv2.imshow('frame',frame)\n",
    "    if cv2.waitKey(5) & 0xFF == 27:\n",
    "        break\n",
    "\n",
    "# When everything done, release the capture\n",
    "capture.release()\n",
    "cv2.destroyAllWindows()"
   ]
  }
 ],
 "metadata": {
  "kernelspec": {
   "display_name": "Python 3",
   "language": "python",
   "name": "python3"
  },
  "language_info": {
   "codemirror_mode": {
    "name": "ipython",
    "version": 3
   },
   "file_extension": ".py",
   "mimetype": "text/x-python",
   "name": "python",
   "nbconvert_exporter": "python",
   "pygments_lexer": "ipython3",
   "version": "3.8.1"
  }
 },
 "nbformat": 4,
 "nbformat_minor": 4
}
